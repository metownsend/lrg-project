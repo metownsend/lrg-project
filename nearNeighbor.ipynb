{
 "cells": [
  {
   "cell_type": "code",
   "execution_count": null,
   "metadata": {
    "collapsed": true
   },
   "outputs": [],
   "source": [
    "# function to calculate near neighbors\n",
    "\n",
    "# Counting NEAR NEIGHBORS (nn) using KDTree\n",
    "# Result is an array of the number of near neighbors each LRG has\n",
    "\n",
    "distance = 0.5 # in Mpc\n",
    "\n",
    "def nearNeighbor(distance, kpc_DA, ra_LRG, dec_LRG, ra_BKG, dec_BKG, xedges, yedges):\n",
    "\n",
    "    # Distance from which we are looking for satellites around the LRGs\n",
    "    distance_kpc = distance * 10.**3. # in kpc\n",
    "\n",
    "    dist = []\n",
    "    for i in range(len(kpc_DA)):\n",
    "        dist.append((distance_kpc / kpc_DA[i]) * 1./3600.) \n",
    "\n",
    "    # Creates a list of ordered pairs; zips ra and dec together so they can be fed into KDTree\n",
    "    zip_list_LRG = list(zip(ra_LRG, dec_LRG)) # Fake LRG sources\n",
    "    zip_list_BKG = list(zip(ra_BKG, dec_BKG)) # Fake EDR sources\n",
    "\n",
    "    # Creates a tree of EDR sources\n",
    "    gal_tree = KDTree(zip_list_BKG)\n",
    "\n",
    "    # returns a list of EDR sources that are within some radius r of an LRG\n",
    "    nn = gal_tree.query_radius(zip_list_LRG,r=dist,count_only=True)\n",
    "\n",
    "    # find indices of near neighbors\n",
    "    # creates a list of arrays that include the indices of satellite galaxies per LRG. In general, some or all of these\n",
    "    # arrays could be empty\n",
    "    ind = gal_tree.query_radius(zip_list_LRG,r=dist)\n",
    "\n",
    "    # Creates one list of number of near neighbors for every LRG (number of lists = number of LRGs)\n",
    "    # NEAR is the list of 2D arrays of satellite galaxies as a funciton of color and magnitude\n",
    "    near = []\n",
    "\n",
    "    for i in range(len(ind)):\n",
    "        # Creates a zero array if there are no near neighbors\n",
    "        if len(ind[i]) == 0:\n",
    "            hist2d = np.zeros((len(xedges)-1,len(yedges)-1))\n",
    "            near.append(hist2d)\n",
    "        # Creates a 2D histogram for satellite galaxies\n",
    "        else:\n",
    "            hist2d, x_notuse, y_notuse = np.histogram2d(rmag_BKG[ind[i]], color_BKG[ind[i]], bins=(xedges, yedges), normed=False)\n",
    "            near.append(hist2d)\n",
    "    \n",
    "    return(distance_kpc, near)"
   ]
  }
 ],
 "metadata": {
  "kernelspec": {
   "display_name": "Python 3",
   "language": "python",
   "name": "python3"
  },
  "language_info": {
   "codemirror_mode": {
    "name": "ipython",
    "version": 3
   },
   "file_extension": ".py",
   "mimetype": "text/x-python",
   "name": "python",
   "nbconvert_exporter": "python",
   "pygments_lexer": "ipython3",
   "version": "3.5.3"
  }
 },
 "nbformat": 4,
 "nbformat_minor": 2
}
