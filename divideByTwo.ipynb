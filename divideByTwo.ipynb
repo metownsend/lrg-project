{
 "cells": [
  {
   "cell_type": "code",
   "execution_count": 1,
   "metadata": {},
   "outputs": [
    {
     "ename": "NameError",
     "evalue": "name '__init__' is not defined",
     "output_type": "error",
     "traceback": [
      "\u001b[0;31m---------------------------------------------------------------------------\u001b[0m",
      "\u001b[0;31mNameError\u001b[0m                                 Traceback (most recent call last)",
      "\u001b[0;32m<ipython-input-1-e22ef10368b9>\u001b[0m in \u001b[0;36m<module>\u001b[0;34m()\u001b[0m\n\u001b[1;32m      1\u001b[0m \u001b[0;31m# Function to convert decimal to binary\u001b[0m\u001b[0;34m\u001b[0m\u001b[0;34m\u001b[0m\u001b[0m\n\u001b[1;32m      2\u001b[0m \u001b[0;32mimport\u001b[0m \u001b[0msys\u001b[0m\u001b[0;34m\u001b[0m\u001b[0m\n\u001b[0;32m----> 3\u001b[0;31m \u001b[0m__init__\u001b[0m\u001b[0;34m.\u001b[0m\u001b[0mpy\u001b[0m\u001b[0;34m\u001b[0m\u001b[0m\n\u001b[0m\u001b[1;32m      4\u001b[0m \u001b[0;31m#!/usr/bin/env python\u001b[0m\u001b[0;34m\u001b[0m\u001b[0;34m\u001b[0m\u001b[0m\n\u001b[1;32m      5\u001b[0m \u001b[0;34m\u001b[0m\u001b[0m\n",
      "\u001b[0;31mNameError\u001b[0m: name '__init__' is not defined"
     ]
    }
   ],
   "source": [
    "# Function to convert decimal to binary\n",
    "# import sys\n",
    "# __init__.py\n",
    "#!/usr/bin/env python\n",
    "\n",
    "def divideBy2(decNumber):\n",
    "\n",
    "\tfrom pythonds.basic.stack import Stack\n",
    "\timport numpy as np\n",
    "\n",
    "\tnp.vectorize(decNumber)  \n",
    "\tremstack = Stack()\n",
    "\t\n",
    "\tif decNumber == 0: return \"0\"\n",
    "\t\n",
    "\twhile decNumber > 0:\n",
    "\t\trem = decNumber % 2\n",
    "\t\tremstack.push(rem)\n",
    "\t\tdecNumber = decNumber // 2\n",
    "\t\t\n",
    "\tbinString = \"\"\n",
    "\twhile not remstack.isEmpty():\n",
    "\t\tbinString = binString + str(remstack.pop())\n",
    "\t\t\t\n",
    "\treturn binString\n"
   ]
  },
  {
   "cell_type": "code",
   "execution_count": null,
   "metadata": {
    "collapsed": true
   },
   "outputs": [],
   "source": []
  }
 ],
 "metadata": {
  "kernelspec": {
   "display_name": "Python 3",
   "language": "python",
   "name": "python3"
  },
  "language_info": {
   "codemirror_mode": {
    "name": "ipython",
    "version": 3
   },
   "file_extension": ".py",
   "mimetype": "text/x-python",
   "name": "python",
   "nbconvert_exporter": "python",
   "pygments_lexer": "ipython3",
   "version": "3.5.3"
  }
 },
 "nbformat": 4,
 "nbformat_minor": 2
}
