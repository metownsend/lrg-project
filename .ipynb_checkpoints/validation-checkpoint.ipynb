{
 "cells": [
  {
   "cell_type": "code",
   "execution_count": null,
   "metadata": {
    "collapsed": true
   },
   "outputs": [],
   "source": [
    "# This notebook contains the test code and validation procedures for the LRG satellite statistical subtraction code"
   ]
  },
  {
   "cell_type": "code",
   "execution_count": 10,
   "metadata": {},
   "outputs": [
    {
     "ename": "ModuleNotFoundError",
     "evalue": "No module named 'cosmoCalc'",
     "output_type": "error",
     "traceback": [
      "\u001b[0;31m---------------------------------------------------------------------------\u001b[0m",
      "\u001b[0;31mModuleNotFoundError\u001b[0m                       Traceback (most recent call last)",
      "\u001b[0;32m<ipython-input-10-ba0eaafd9d5e>\u001b[0m in \u001b[0;36m<module>\u001b[0;34m()\u001b[0m\n\u001b[1;32m     10\u001b[0m \u001b[0;32mfrom\u001b[0m \u001b[0msklearn\u001b[0m\u001b[0;34m.\u001b[0m\u001b[0mneighbors\u001b[0m \u001b[0;32mimport\u001b[0m \u001b[0mKDTree\u001b[0m\u001b[0;34m\u001b[0m\u001b[0m\n\u001b[1;32m     11\u001b[0m \u001b[0;32mimport\u001b[0m \u001b[0mrandom\u001b[0m\u001b[0;34m\u001b[0m\u001b[0m\n\u001b[0;32m---> 12\u001b[0;31m \u001b[0;32mfrom\u001b[0m \u001b[0mcosmoCalc\u001b[0m \u001b[0;32mimport\u001b[0m \u001b[0mcosmoCalcfunc\u001b[0m\u001b[0;34m\u001b[0m\u001b[0m\n\u001b[0m",
      "\u001b[0;31mModuleNotFoundError\u001b[0m: No module named 'cosmoCalc'"
     ]
    }
   ],
   "source": [
    "from astropy.io import fits\n",
    "from astropy.table import Table\n",
    "import numpy as np\n",
    "import matplotlib.pylab as plt \n",
    "import matplotlib.lines as mlines\n",
    "from matplotlib.legend import Legend\n",
    "# from pythonds.basic.stack import Stack\n",
    "from math import *\n",
    "import random\n",
    "from sklearn.neighbors import KDTree\n",
    "import random\n",
    "from cosmoCalc import cosmoCalcfunc"
   ]
  },
  {
   "cell_type": "code",
   "execution_count": 9,
   "metadata": {},
   "outputs": [
    {
     "name": "stdout",
     "output_type": "stream",
     "text": [
      "length of color_lrg =  50\n",
      "distance in Mpc = 1.0\n",
      "distance in kpc =  1000.0\n"
     ]
    },
    {
     "ename": "NameError",
     "evalue": "name 'cosmoCalcfunc' is not defined",
     "output_type": "error",
     "traceback": [
      "\u001b[0;31m---------------------------------------------------------------------------\u001b[0m",
      "\u001b[0;31mNameError\u001b[0m                                 Traceback (most recent call last)",
      "\u001b[0;32m<ipython-input-9-e30dd6c554d8>\u001b[0m in \u001b[0;36m<module>\u001b[0;34m()\u001b[0m\n\u001b[1;32m     61\u001b[0m \u001b[0;34m\u001b[0m\u001b[0m\n\u001b[1;32m     62\u001b[0m \u001b[0;31m# Calculate scale kpc_DA using cosmoCalcfunc\u001b[0m\u001b[0;34m\u001b[0m\u001b[0;34m\u001b[0m\u001b[0m\n\u001b[0;32m---> 63\u001b[0;31m \u001b[0mDTT_Gyr\u001b[0m\u001b[0;34m,\u001b[0m \u001b[0mage_Gyr\u001b[0m\u001b[0;34m,\u001b[0m \u001b[0mzage_Gyr\u001b[0m\u001b[0;34m,\u001b[0m \u001b[0mDCMR_Mpc\u001b[0m\u001b[0;34m,\u001b[0m \u001b[0mDCMR_Gyr\u001b[0m\u001b[0;34m,\u001b[0m \u001b[0mDA_Mpc\u001b[0m\u001b[0;34m,\u001b[0m \u001b[0mDA_Gyr\u001b[0m\u001b[0;34m,\u001b[0m \u001b[0mkpc_DA\u001b[0m\u001b[0;34m,\u001b[0m \u001b[0mDL_Mpc\u001b[0m\u001b[0;34m,\u001b[0m \u001b[0mDL_Gyr\u001b[0m\u001b[0;34m,\u001b[0m \u001b[0mV_Gpc\u001b[0m \u001b[0;34m=\u001b[0m \u001b[0mcosmoCalcfunc\u001b[0m\u001b[0;34m(\u001b[0m\u001b[0mz\u001b[0m\u001b[0;34m)\u001b[0m\u001b[0;34m\u001b[0m\u001b[0m\n\u001b[0m",
      "\u001b[0;31mNameError\u001b[0m: name 'cosmoCalcfunc' is not defined"
     ]
    }
   ],
   "source": [
    "# Define all relevant physical variables needed throughout the program, including:\n",
    "# - number of LRG sources\n",
    "# - number of survey (non-LRG) sources\n",
    "# - coordinates for LRGs\n",
    "# - coordinates for survey sources\n",
    "# - projected radius from LRGs\n",
    "# - LRG redshift\n",
    "# - gmag and rmag for survey sources\n",
    "# - gmag and rmag for LRGs\n",
    "# - (g-r) color survey sources\n",
    "# - (g-r) color for LRGs\n",
    "\n",
    "# Number of LRG sources\n",
    "lrg = 50\n",
    "\n",
    "# Number of survey (non-LRG) sources\n",
    "survey = 350\n",
    "\n",
    "# Fake coordinates for LRG sources\n",
    "random.seed(1)\n",
    "x0 = [np.random.uniform(0,5) for j in range(lrg)]\n",
    "random.seed(2)\n",
    "y0 = [np.random.uniform(0,5) for j in range(lrg)]\n",
    "\n",
    "# Fake coordinates for survey sources\n",
    "random.seed(3)\n",
    "x1 = [np.random.uniform(0,5) for j in range(survey)]\n",
    "random.seed(4)\n",
    "y1 = [np.random.uniform(0,5) for j in range(survey)]\n",
    "\n",
    "# Redshift for LRG \n",
    "random.seed(0.2)\n",
    "z = [np.random.uniform(0.1,0.5) for j in range(lrg)]\n",
    "\n",
    "# Magnitudes for survey sources\n",
    "random.seed(15)\n",
    "gmag_survey = [np.random.uniform(14,29) for j in range(len(x1))]\n",
    "random.seed(16)\n",
    "rmag_survey = [np.random.uniform(13,24) for j in range(len(x1))]\n",
    "\n",
    "gmag_survey = np.array(gmag_survey)\n",
    "rmag_survey = np.array(rmag_survey)\n",
    "color_survey = gmag_survey - rmag_survey\n",
    "\n",
    "# Magnitudes for LRG sources\n",
    "random.seed(20)\n",
    "gmag_lrg = [np.random.uniform(17,23) for j in range(lrg)]\n",
    "random.seed(21)\n",
    "rmag_lrg = [np.random.uniform(16,21) for j in range(lrg)]\n",
    "\n",
    "gmag_lrg = np.array(gmag_lrg)\n",
    "rmag_lrg = np.array(rmag_lrg)\n",
    "color_lrg = gmag_lrg - rmag_lrg\n",
    "print(\"length of color_lrg = \", len(color_lrg))\n",
    "\n",
    "# Distance from which we are looking for satellites around the LRGs\n",
    "distance = 1. # in Mpc\n",
    "distance_kpc = distance * 10.**3. # in kpc\n",
    "\n",
    "# Calculate scale kpc_DA using cosmoCalcfunc\n",
    "DTT_Gyr, age_Gyr, zage_Gyr, DCMR_Mpc, DCMR_Gyr, DA_Mpc, DA_Gyr, kpc_DA, DL_Mpc, DL_Gyr, V_Gpc = cosmoCalcfunc(z)"
   ]
  },
  {
   "cell_type": "code",
   "execution_count": null,
   "metadata": {
    "collapsed": true
   },
   "outputs": [],
   "source": []
  }
 ],
 "metadata": {
  "kernelspec": {
   "display_name": "Python 3",
   "language": "python",
   "name": "python3"
  },
  "language_info": {
   "codemirror_mode": {
    "name": "ipython",
    "version": 3
   },
   "file_extension": ".py",
   "mimetype": "text/x-python",
   "name": "python",
   "nbconvert_exporter": "python",
   "pygments_lexer": "ipython3",
   "version": "3.6.1"
  }
 },
 "nbformat": 4,
 "nbformat_minor": 2
}
