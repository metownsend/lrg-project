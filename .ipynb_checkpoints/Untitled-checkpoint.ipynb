{
 "cells": [
  {
   "cell_type": "code",
   "execution_count": 30,
   "metadata": {
    "collapsed": true
   },
   "outputs": [],
   "source": [
    "from astropy.io import fits\n",
    "from astropy.table import Table\n",
    "import numpy as np\n",
    "import matplotlib.pylab as plt \n",
    "import matplotlib.lines as mlines\n",
    "from matplotlib.legend import Legend\n",
    "from pythonds.basic.stack import Stack\n",
    "from math import *\n",
    "from sklearn.neighbors import KDTree\n",
    "from pydl.pydlutils.sdss import sdss_flagname"
   ]
  },
  {
   "cell_type": "code",
   "execution_count": 31,
   "metadata": {
    "collapsed": true
   },
   "outputs": [],
   "source": [
    "# Reading in data and assigning it to variables even though Greg seems to think it's a waste of time.\n",
    "\n",
    "# Read in data\n",
    "hdulist2 = fits.open('https://data.sdss.org/sas/dr13/sdss/spectro/redux/specObj-dr13.fits')\n",
    "tbdata2 = hdulist2[1].data"
   ]
  },
  {
   "cell_type": "code",
   "execution_count": 32,
   "metadata": {},
   "outputs": [
    {
     "name": "stdout",
     "output_type": "stream",
     "text": [
      "1999161\n",
      "4411200\n"
     ]
    }
   ],
   "source": [
    "targets = []\n",
    "targets = tbdata2.field('BOSS_TARGET1')\n",
    "\n",
    "tarcut = targets[np.where(targets > 0)]\n",
    "\n",
    "print(len(targets[np.where(targets > 0)]))\n",
    "print(len(targets))"
   ]
  },
  {
   "cell_type": "code",
   "execution_count": 33,
   "metadata": {},
   "outputs": [],
   "source": [
    "lrg_tar = []\n",
    "for i in range(len(targets)):\n",
    "    lrg_tar.append(sdss_flagname('BOSS_TARGET1',targets[i])) \n",
    "#     print(sdss_flagname('BOSS_TARGET1',tarcut[i])) "
   ]
  },
  {
   "cell_type": "code",
   "execution_count": 34,
   "metadata": {},
   "outputs": [
    {
     "name": "stdout",
     "output_type": "stream",
     "text": [
      "4411200\n",
      "['GAL_LOZ', 'GAL_CMASS_SPARSE']\n"
     ]
    }
   ],
   "source": [
    "print(len(lrg_tar))\n",
    "print(lrg_tar[1843966])"
   ]
  },
  {
   "cell_type": "code",
   "execution_count": 35,
   "metadata": {},
   "outputs": [],
   "source": [
    "# print(type(lrg_tar))\n",
    "# print(type(lrg_tar[0]))\n",
    "\n",
    "# This gives an array of indicies that match whatever flag I want (in this case, GAL_LOZ and GAL_CMASS)\n",
    "# lrg = []\n",
    "# nolrg = []\n",
    "# for i in range(len(lrg_tar)):\n",
    "#     for j in range(len(lrg_tar[i])):\n",
    "#         if (lrg_tar[i][j] == 'GAL_LOZ') or (lrg_tar[i][j] == 'GAL_CMASS'):\n",
    "#             lrg.append(i)\n",
    "#         else: \n",
    "#             if (nolrg[i] != nolrg[i-1]):\n",
    "#                 nolrg.append(i)\n",
    "\n",
    "# print(len(lrg))\n",
    "# print(len(nolrg))\n",
    "# print(len(lrg) + len(nolrg))\n",
    "# print(lrg[0])\n",
    "\n",
    "# import numpy as np\n",
    "\n",
    "# A1 = np.array(lrg_tar[1843966])\n",
    "# print(A1)\n",
    "# A2 = np.array(lrg_tar[1])\n",
    "# B1 = []\n",
    "\n",
    "# B = any(A1 == 'GAL_LOZ') \n",
    "# print(B)\n",
    "# A1 == 'GAL_CMASS'\n",
    "\n",
    "# A2 == 'GAL_LOZ'\n",
    "# A2 == 'GAL_CMASS'\n",
    "\n",
    "A = []\n",
    "B = []\n",
    "C = []\n",
    "lrg = []\n",
    "for i in range(len(lrg_tar)):\n",
    "    A = lrg_tar[i]\n",
    "    A1 = np.array(A)\n",
    "    if len(A1) == 0:\n",
    "        lrg.append(0)\n",
    "    else:\n",
    "        B = any(A1 == 'GAL_LOZ')\n",
    "        B1 = str(B)\n",
    "        C = any(A1 == 'GAL_CMASS')\n",
    "        C1 = str(C)\n",
    "        if (B1 == 'True') or (C1 == 'True'):\n",
    "            lrg.append(1)\n",
    "        else:\n",
    "            lrg.append(0)"
   ]
  },
  {
   "cell_type": "code",
   "execution_count": 36,
   "metadata": {},
   "outputs": [
    {
     "name": "stdout",
     "output_type": "stream",
     "text": [
      "['GAL_LOZ', 'GAL_CMASS_SPARSE']\n",
      "1\n",
      "4411200\n",
      "type is <class 'numpy.ndarray'>\n",
      "1\n",
      "0\n",
      "<class 'numpy.int64'>\n",
      "length lrgcut is 1406202\n",
      "length nolrg is 3004998\n",
      "4411200\n"
     ]
    }
   ],
   "source": [
    "print(lrg_tar[1843966])\n",
    "print(lrg[1843966])\n",
    "\n",
    "print(len(lrg))\n",
    "lrg = np.array(lrg)\n",
    "print(\"type is\", type(lrg))\n",
    "print(lrg[1843966])\n",
    "print(lrg[0])\n",
    "print(type(lrg[0]))\n",
    "lrgcut = lrg[np.where(lrg == 1)]\n",
    "print(\"length lrgcut is\", len(lrgcut))\n",
    "nolrg = lrg[np.where(lrg == 0)]\n",
    "print('length nolrg is', len(nolrg))\n",
    "print(len(lrgcut) + len(nolrg))"
   ]
  },
  {
   "cell_type": "code",
   "execution_count": 9,
   "metadata": {},
   "outputs": [
    {
     "name": "stdout",
     "output_type": "stream",
     "text": [
      "3733544\n",
      "5150533\n",
      "2994211\n"
     ]
    }
   ],
   "source": [
    "# This gives an array of indicies that match whatever flag I want (in this case, GAL_LOZ and GAL_CMASS)\n",
    "nolrg = []\n",
    "for i in range(len(lrg_tar)):\n",
    "    for j in range(len(lrg_tar[i])):\n",
    "        if (lrg_tar[i][j] != 'GAL_LOZ') and (lrg_tar[i][j] != 'GAL_CMASS'):\n",
    "            nolrg.append(i)\n",
    "        \n",
    "            \n",
    "print(len(nolrg))\n",
    "print(len(nolrg) + len(lrg))\n",
    "print(len(lrg_tar) - len(lrg))"
   ]
  },
  {
   "cell_type": "code",
   "execution_count": null,
   "metadata": {
    "collapsed": true
   },
   "outputs": [],
   "source": [
    "# This gives an array of indicies that match whatever flag I want (in this case, GAL_LOZ and GAL_CMASS)\n",
    "lrg = []\n",
    "nolrg = []\n",
    "for i in range(len(lrg_tar)):\n",
    "    for j in range(len(lrg_tar[i])):\n",
    "        if (lrg_tar[i][j] == 'GAL_LOZ') or (lrg_tar[i][j] == 'GAL_CMASS'):\n",
    "            lrg.append(i)\n"
   ]
  },
  {
   "cell_type": "code",
   "execution_count": null,
   "metadata": {
    "collapsed": true
   },
   "outputs": [],
   "source": [
    "for i in range(len(lrg_tar)):\n",
    "    for j in range(len(lrg)):\n",
    "        if (i != lrg[j]):\n",
    "            nolrg.append(i)\n",
    "\n",
    "print(len(lrg))\n",
    "print(len(nolrg))\n",
    "print(len(nolrg) + len(lrg))\n",
    "print(len(lrg_tar) - len(lrg))"
   ]
  },
  {
   "cell_type": "code",
   "execution_count": null,
   "metadata": {
    "collapsed": true
   },
   "outputs": [],
   "source": [
    "# What I'm replacing\n",
    "\n",
    "# Function to find LOWZ targets\n",
    "# def divideBy2(decNumber):\n",
    "# \tnp.vectorize(decNumber)\n",
    "# \tremstack = Stack()\n",
    "\t\n",
    "# \tif decNumber == 0: return \"0\"\n",
    "\t\n",
    "# \twhile decNumber > 0:\n",
    "# \t\trem = decNumber % 2\n",
    "# \t\tremstack.push(rem)\n",
    "# \t\tdecNumber = decNumber // 2\n",
    "\t\t\n",
    "# \tbinString = \"\"\n",
    "# \twhile not remstack.isEmpty():\n",
    "# \t\tbinString = binString + str(remstack.pop())\n",
    "\t\t\t\n",
    "# \treturn binString\n",
    "\n",
    "# divideBy2Vec = np.vectorize(divideBy2)\n",
    "\n",
    "# binary = divideBy2Vec(targets) # gives binary in string form\n",
    "# print(len(binary))\n",
    "# print(np.where(binary != '0'))\n",
    "# # bin2int = [int(i) for i in binary] # converts binary strings to integer\n",
    "# # tar = np.array(bin2int) # puts list of integers into numpy array\n",
    "# # c = tar % 2 # divide by two again to see if the binary number ends in zero\n",
    "# # lowz_tar = np.array(c)\n",
    "\n",
    "# backward = []\n",
    "\n",
    "# for i in range(len(binary)):\n",
    "# \tbackward.append(list((binary[i]))) # creates a list of lists; each binary number is a new list of binary digits\n",
    "# \tbackward[i].reverse() # reverse list to make it easier to search\n",
    "\t\n",
    "\n",
    "# tar = []\n",
    "\n",
    "# # This loop targets only LOWZ galaxies\n",
    "# for i in range(len(backward)):\n",
    "#     if (backward[i][0] == '1'):\n",
    "#         tar.append(1)\n",
    "#     else:\n",
    "#         tar.append(0)\n",
    "    \n",
    "# print(len(tar))\n",
    "# print(type(tar))\n",
    "# print(tar[np.where(tar != 0)])\n",
    "\n",
    "# This loop is for when we fold in CMASS galaxies\n",
    "# for i in range(len(backward)):\n",
    "# \ttry:\n",
    "# \t\tif (backward[i][0] == '1') or (backward[i][1] == '1'):\n",
    "# \t\t\ttar.append(1)\n",
    "# \t\telse:\n",
    "# \t\t\ttar.append(0)\n",
    "# \texcept IndexError:\n",
    "# \t\tpass\n",
    "# # \t\tprint('pass statement')\n",
    "# \t\ttar.append(0)"
   ]
  }
 ],
 "metadata": {
  "kernelspec": {
   "display_name": "Python 3",
   "language": "python",
   "name": "python3"
  },
  "language_info": {
   "codemirror_mode": {
    "name": "ipython",
    "version": 3
   },
   "file_extension": ".py",
   "mimetype": "text/x-python",
   "name": "python",
   "nbconvert_exporter": "python",
   "pygments_lexer": "ipython3",
   "version": "3.5.3"
  }
 },
 "nbformat": 4,
 "nbformat_minor": 2
}
