{
 "cells": [
  {
   "cell_type": "code",
   "execution_count": null,
   "metadata": {
    "collapsed": true
   },
   "outputs": [],
   "source": [
    "# Function to convert decimal to binary\n",
    "import sys\n",
    "__init__.py\n",
    "#!/usr/bin/env python\n",
    "\n",
    "def divideBy2(decNumber):\n",
    "\n",
    "\tfrom pythonds.basic.stack import Stack\n",
    "\timport numpy as np\n",
    "\n",
    "\tnp.vectorize(decNumber)  \n",
    "\tremstack = Stack()\n",
    "\t\n",
    "\tif decNumber == 0: return \"0\"\n",
    "\t\n",
    "\twhile decNumber > 0:\n",
    "\t\trem = decNumber % 2\n",
    "\t\tremstack.push(rem)\n",
    "\t\tdecNumber = decNumber // 2\n",
    "\t\t\n",
    "\tbinString = \"\"\n",
    "\twhile not remstack.isEmpty():\n",
    "\t\tbinString = binString + str(remstack.pop())\n",
    "\t\t\t\n",
    "\treturn binString\n"
   ]
  }
 ],
 "metadata": {
  "kernelspec": {
   "display_name": "Python 3",
   "language": "python",
   "name": "python3"
  },
  "language_info": {
   "codemirror_mode": {
    "name": "ipython",
    "version": 3
   },
   "file_extension": ".py",
   "mimetype": "text/x-python",
   "name": "python",
   "nbconvert_exporter": "python",
   "pygments_lexer": "ipython3",
   "version": "3.5.3"
  }
 },
 "nbformat": 4,
 "nbformat_minor": 2
}
