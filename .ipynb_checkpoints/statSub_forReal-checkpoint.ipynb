{
 "cells": [
  {
   "cell_type": "code",
   "execution_count": 1,
   "metadata": {
    "collapsed": true
   },
   "outputs": [],
   "source": [
    "from astropy.io import fits\n",
    "from astropy.table import Table\n",
    "import numpy as np\n",
    "import matplotlib.pylab as plt \n",
    "import matplotlib.lines as mlines\n",
    "from matplotlib.legend import Legend\n",
    "from pythonds.basic.stack import Stack\n",
    "from math import *\n",
    "from sklearn.neighbors import KDTree\n",
    "from lrg_plot_functions import *\n",
    "from lrg_sum_functions import *\n",
    "from cosmo_Calc import *\n",
    "from divideByTwo import *\n",
    "from readData import *\n",
    "from nearNeighbors import *\n",
    "from localBKG import *\n",
    "from scipy import stats\n",
    "from bestBkg import *\n",
    "from astropy import stats\n",
    "import healpy as hp"
   ]
  },
  {
   "cell_type": "code",
   "execution_count": 2,
   "metadata": {},
   "outputs": [
    {
     "name": "stdout",
     "output_type": "stream",
     "text": [
      "length of sdss array:  4851200\n",
      "length of lrg only array: 1406221\n",
      "length of DECaLS targets in brick:  5182673\n",
      "length of id_ALL:  5182673\n",
      "<class 'numpy.ndarray'>\n",
      "length of id_MATCHED with LRG_cut (id_LRG): 1624\n",
      "length of idcut: 5182673\n",
      "length of idcut = 1 (is an LRG in DECaLS-only file): 1233\n",
      "length of idcut = 0 (is not an LRG in DECaLS-only file): 5181440\n",
      "length of z_lrg: 1233\n",
      "length of sdss array:  4851200\n",
      "length of lrg only array: 1406221\n",
      "length of DECaLS targets in brick:  4008392\n",
      "length of id_ALL:  4008392\n",
      "<class 'numpy.ndarray'>\n",
      "length of id_MATCHED with LRG_cut (id_LRG): 1624\n",
      "length of idcut: 4008392\n",
      "length of idcut = 1 (is an LRG in DECaLS-only file): 391\n",
      "length of idcut = 0 (is not an LRG in DECaLS-only file): 4008001\n",
      "length of z_lrg: 391\n",
      "end readdata\n"
     ]
    }
   ],
   "source": [
    "# Reads in data files for use in readData.py\n",
    "\n",
    "hdulist = fits.open('/Users/mtownsend/anaconda/Data/survey-dr7-specObj-dr14.fits') # this matches SDSS LRGs to DECaLS;\n",
    "                                                                 # ONLY GIVES SOURCES THAT ARE IN SDSS AND DECALS\n",
    "hdulist2 = fits.open('/Users/mtownsend/anaconda/Data/specObj-dr14.fits') # this is SDSS redshifts etc for LRGs\n",
    "hdulist3 = fits.open('/Users/mtownsend/anaconda/Data/sweep-240p005-250p010-dr7.fits') # this is one sweep file of the DECaLS data\n",
    "hdulist4 = fits.open('/Users/mtownsend/anaconda/Data/sweep-240p010-250p015-dr7.fits') # this is one sweep file of the DECaLS data\n",
    "\n",
    "# hdulist = fits.open('/Users/mindy/Research/Data/lrgProjectData/survey-dr5-specObj-dr14.fits') # this matches SDSS LRGs to DECaLS;\n",
    "                                                                 # ONLY GIVES SOURCES THAT ARE IN SDSS AND DECALS\n",
    "# hdulist2 = fits.open('/Users/mindy/Research/Data/lrgProjectData/specObj-dr14.fits') # this is SDSS redshifts etc for LRGs\n",
    "# hdulist3 = fits.open('/Users/mindy/Research/Data/lrgProjectData/sweep-240p005-250p010.fits') # this is one sweep file of the DECaLS data\n",
    "\n",
    "\n",
    "SpecObj_data = hdulist[1].data\n",
    "SDSS_data = hdulist2[1].data\n",
    "DECaLS_data1 = hdulist3[1].data\n",
    "DECaLS_data2 = hdulist4[1].data\n",
    "\n",
    "id_ALL1, ra_LRG1, dec_LRG1, ra_BKG1, dec_BKG1, rmag_BKG1, gmag_BKG1, zmag_BKG1, color_BKG1, rmag_LRG1, gmag_LRG1, zmag_LRG1, color_LRG1, z_LRG1, gdepth_LRG1, rdepth_LRG1, zdepth_LRG1, gdepth_BKG1, rdepth_BKG1, zdepth_BKG1, gobs_LRG1, robs_LRG1, zobs_LRG1, gobs_BKG1, robs_BKG1, zobs_BKG1, gflux_LRG1, rflux_LRG1, zflux_LRG1, gflux_BKG1, rflux_BKG1, zflux_BKG1 = readData(SpecObj_data, SDSS_data, DECaLS_data1)\n",
    "id_ALL2, ra_LRG2, dec_LRG2, ra_BKG2, dec_BKG2, rmag_BKG2, gmag_BKG2, zmag_BKG2, color_BKG2, rmag_LRG2, gmag_LRG2, zmag_LRG2, color_LRG2, z_LRG2, gdepth_LRG2, rdepth_LRG2, zdepth_LRG2, gdepth_BKG2, rdepth_BKG2, zdepth_BKG2, gobs_LRG2, robs_LRG2, zobs_LRG2, gobs_BKG2, robs_BKG2, zobs_BKG2, gflux_LRG2, rflux_LRG2, zflux_LRG2, gflux_BKG2, rflux_BKG2, zflux_BKG2 = readData(SpecObj_data, SDSS_data, DECaLS_data2)\n",
    "\n",
    "ra_LRG = np.concatenate([ra_LRG1, ra_LRG2])\n",
    "ra_BKG = np.concatenate([ra_BKG1, ra_BKG2])\n",
    "dec_LRG = np.concatenate([dec_LRG1, dec_LRG2])\n",
    "dec_BKG = np.concatenate([dec_BKG1, dec_BKG2])\n",
    "z_LRG = np.concatenate([z_LRG1, z_LRG2])\n",
    "gmag_LRG = np.concatenate([gmag_LRG1, gmag_LRG2])\n",
    "gmag_BKG = np.concatenate([gmag_BKG1, gmag_BKG2])\n",
    "rmag_LRG = np.concatenate([rmag_LRG1, rmag_LRG2])\n",
    "rmag_BKG = np.concatenate([rmag_BKG1, rmag_BKG2])\n",
    "zmag_LRG = np.concatenate([zmag_LRG1, zmag_LRG2])\n",
    "zmag_BKG = np.concatenate([zmag_BKG1, zmag_BKG2])\n",
    "color_LRG = np.concatenate([color_LRG1, color_LRG2])\n",
    "color_BKG = np.concatenate([color_BKG1, color_BKG2])\n",
    "\n",
    "print(\"end readdata\")"
   ]
  },
  {
   "cell_type": "code",
   "execution_count": 3,
   "metadata": {
    "collapsed": true
   },
   "outputs": [],
   "source": [
    "ra_LRG = ra_LRG[np.where(zmag_LRG <= 21.5)]\n",
    "dec_LRG = dec_LRG[np.where(zmag_LRG <= 21.5)]\n",
    "\n",
    "ra_BKG = ra_BKG[np.where(zmag_BKG <= 21.5)]\n",
    "dec_BKG = dec_BKG[np.where(zmag_BKG <= 21.5)]\n",
    "\n",
    "gmag_LRG = gmag_LRG[np.where(zmag_LRG <= 21.5)]\n",
    "rmag_LRG = rmag_LRG[np.where(zmag_LRG <= 21.5)]\n",
    "zmag_LRG = zmag_LRG[np.where(zmag_LRG <= 21.5)]\n",
    "color_LRG = color_LRG[np.where(zmag_LRG <= 21.5)]\n",
    "\n",
    "gmag_BKG = gmag_BKG[np.where(zmag_BKG <= 21.5)]\n",
    "rmag_BKG = rmag_BKG[np.where(zmag_BKG <= 21.5)]\n",
    "zmag_BKG = zmag_BKG[np.where(zmag_BKG <= 21.5)]\n",
    "color_BKG = color_BKG[np.where(zmag_BKG <= 21.5)]"
   ]
  },
  {
   "cell_type": "code",
   "execution_count": 4,
   "metadata": {},
   "outputs": [
    {
     "name": "stdout",
     "output_type": "stream",
     "text": [
      "end cosmoCalc\n"
     ]
    }
   ],
   "source": [
    "DTT_Gyr, age_Gyr, zage_Gyr, DCMR_Mpc, DCMR_Gyr, DA_Mpc, DA_Gyr, kpc_DA, DL_Mpc, DL_Gyr, V_Gpc = cosmoCalcfunc(z_LRG)\n",
    "\n",
    "print(\"end cosmoCalc\")"
   ]
  },
  {
   "cell_type": "code",
   "execution_count": 5,
   "metadata": {},
   "outputs": [
    {
     "name": "stdout",
     "output_type": "stream",
     "text": [
      "end nearNeighbor\n"
     ]
    }
   ],
   "source": [
    "row = 10\n",
    "column = 10\n",
    "rmag = np.concatenate([rmag_LRG, rmag_BKG])\n",
    "color = np.concatenate([color_LRG, color_BKG])\n",
    "# creates histogram for survey sources; excludes LRGs\n",
    "H, xedges, yedges = np.histogram2d(rmag, color, normed=False)\n",
    "# print(\"xedges: \", xedges)\n",
    "# print(\"yedges: \", yedges)\n",
    "\n",
    "# Uses the numbers counted in the histogram to calculate a surface density: For each cell, the number of sources\n",
    "# divided by the area \n",
    "sd = H/(25.) # * (3600.**2.)) # converts square degrees to square arcseconds\n",
    "\n",
    "distance = 0.2\n",
    "\n",
    "distance_kpc, near, gal_tree = nearNeighbor(distance, kpc_DA, ra_LRG, dec_LRG, ra_BKG, dec_BKG, rmag_LRG, rmag_BKG, color_LRG, color_BKG, xedges, yedges)\n",
    "\n",
    "print('end nearNeighbor')"
   ]
  },
  {
   "cell_type": "code",
   "execution_count": 59,
   "metadata": {},
   "outputs": [
    {
     "name": "stdout",
     "output_type": "stream",
     "text": [
      "end bkg\n"
     ]
    }
   ],
   "source": [
    "distance_r2 = 0.4\n",
    "distance_r3 = 1.5\n",
    "\n",
    "numbkg, med_local, sigma, omega, Nbkg, r2, dist_r2, r3, dist_r3 = localBKG_and_interlopers(distance_kpc, distance_r2, distance_r3, kpc_DA, ra_LRG, dec_LRG, ra_BKG, dec_BKG, rmag_LRG, rmag_BKG, color_LRG, color_BKG, xedges, yedges)\n",
    "\n",
    "print(\"end bkg\")"
   ]
  },
  {
   "cell_type": "code",
   "execution_count": 60,
   "metadata": {},
   "outputs": [
    {
     "name": "stdout",
     "output_type": "stream",
     "text": [
      "end Nsat\n"
     ]
    }
   ],
   "source": [
    "Nsat = np.array(near) - np.array(Nbkg)\n",
    "\n",
    "# print(Nsat)\n",
    "\n",
    "print(\"end Nsat\")"
   ]
  },
  {
   "cell_type": "code",
   "execution_count": 61,
   "metadata": {},
   "outputs": [
    {
     "name": "stdout",
     "output_type": "stream",
     "text": [
      "mean number of satellites is 1.5216784123317697\n",
      "median number of satellites is 1.0813397129186608\n",
      "standard deviation of satellites is 3.0815379609849205\n",
      "standard error is 0.07649063427537457\n"
     ]
    },
    {
     "data": {
      "image/png": "[encoded data removed]",
      "text/plain": [
       "<matplotlib.figure.Figure at 0x33e7e4dd8>"
      ]
     },
     "metadata": {},
     "output_type": "display_data"
    }
   ],
   "source": [
    "totalNsat(Nsat)\n",
    "\n",
    "# plt.savefig(\"/Users/mtownsend/anaconda/GitHub/lrg-project/Plots/LRG_science_plots/totalNsat.pdf\")\n",
    "# plt.savefig(\"/Users/mindy/Research/Plots/LRG_Project_Plots/totalNsat.pdf\")\n",
    "\n",
    "plt.show()"
   ]
  },
  {
   "cell_type": "code",
   "execution_count": 6,
   "metadata": {
    "collapsed": true
   },
   "outputs": [],
   "source": [
    "distance_r2 = 0.4\n",
    "distance_r3 = [0.5, 0.6, 0.7, 0.8, 0.9, 1.0, 1.1, 1.2, 1.3, 1.4, 1.5]\n",
    "\n",
    "sum_sat = []\n",
    "median_sat = []\n",
    "Nsat = []\n",
    "for i in range(len(distance_r3)):\n",
    "    numbkg, med_local, sigma, omega, Nbkg, r2, dist_r2, r3, dist_r3 = localBKG_and_interlopers(distance_kpc, distance_r2, distance_r3[i], kpc_DA, ra_LRG, dec_LRG, ra_BKG, dec_BKG, rmag_LRG, rmag_BKG, color_LRG, color_BKG, xedges, yedges)\n",
    "    Nsat = np.array(near) - np.array(Nbkg)\n",
    "    mediansat = totalNsat(Nsat)\n",
    "#     sum_sat.append(np.sum(N_sat))\n",
    "    median_sat.append(mediansat)\n"
   ]
  },
  {
   "cell_type": "code",
   "execution_count": 7,
   "metadata": {},
   "outputs": [
    {
     "name": "stdout",
     "output_type": "stream",
     "text": [
      "[1989.5555555555554, 2036.8777777777777, 2084.2, 2108.978787878788, 2133.757575757576, 2163.837121212121, 2193.916666666666, 2215.189102564102, 2236.461538461538, 2265.778388278388, 2295.0952380952376]\n"
     ]
    }
   ],
   "source": [
    "print(median_sat)"
   ]
  },
  {
   "cell_type": "code",
   "execution_count": null,
   "metadata": {
    "collapsed": true
   },
   "outputs": [],
   "source": []
  }
 ],
 "metadata": {
  "kernelspec": {
   "display_name": "Python 3",
   "language": "python",
   "name": "python3"
  },
  "language_info": {
   "codemirror_mode": {
    "name": "ipython",
    "version": 3
   },
   "file_extension": ".py",
   "mimetype": "text/x-python",
   "name": "python",
   "nbconvert_exporter": "python",
   "pygments_lexer": "ipython3",
   "version": "3.5.3"
  }
 },
 "nbformat": 4,
 "nbformat_minor": 2
}
