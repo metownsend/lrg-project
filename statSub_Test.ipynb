{
 "cells": [
  {
   "cell_type": "code",
   "execution_count": 1,
   "metadata": {
    "collapsed": true
   },
   "outputs": [],
   "source": [
    "from astropy.io import fits\n",
    "from astropy.table import Table\n",
    "import numpy as np\n",
    "import matplotlib.pylab as plt \n",
    "import matplotlib.lines as mlines\n",
    "from matplotlib.legend import Legend\n",
    "# from pythonds.basic.stack import Stack\n",
    "from math import *\n",
    "import random\n",
    "from sklearn.neighbors import KDTree"
   ]
  },
  {
   "cell_type": "code",
   "execution_count": 38,
   "metadata": {},
   "outputs": [
    {
     "name": "stdout",
     "output_type": "stream",
     "text": [
      "[[ 1.  0.  2.  1.  1.]\n",
      " [ 0.  2.  0.  0.  0.]\n",
      " [ 0.  0.  0.  0.  0.]\n",
      " [ 0.  0.  0.  0.  0.]\n",
      " [ 0.  0.  2.  0.  1.]]\n",
      "-------\n",
      "[[ 1.  0.  0.  0.  1.]\n",
      " [ 1.  0.  0.  0.  0.]\n",
      " [ 2.  0.  0.  0.  2.]\n",
      " [ 0.  2.  0.  0.  0.]\n",
      " [ 1.  0.  0.  0.  0.]]\n",
      "-------\n",
      "[[ 0.5  0.   0.   0.   0.5]\n",
      " [ 0.5  0.   0.   0.   0. ]\n",
      " [ 1.   0.   0.   0.   1. ]\n",
      " [ 0.   1.   0.   0.   0. ]\n",
      " [ 0.5  0.   0.   0.   0. ]]\n"
     ]
    },
    {
     "data": {
      "image/png": "[encoded data removed]",
      "text/plain": [
       "<matplotlib.figure.Figure at 0x1a16650d68>"
      ]
     },
     "metadata": {},
     "output_type": "display_data"
    },
    {
     "data": {
      "image/png": "[encoded data removed]",
      "text/plain": [
       "<matplotlib.figure.Figure at 0x1a173359e8>"
      ]
     },
     "metadata": {},
     "output_type": "display_data"
    }
   ],
   "source": [
    "# Test to calculate surface density\n",
    "\n",
    "# Some fake LRGs\n",
    "x0 = np.array([498., 572., 230., 409., 580., 746., 823., 699., 540., 400.])\n",
    "y0 = np.array([887., 177., 306., 402., 894., 288., 831., 235., 251., 426.])\n",
    "\n",
    "# x1 = np.array([977., 721., 198., 594., 990., 841., 199., 873., 206., 888., 740., 541., 476., 780., 561., 359., 837., 690., 381., 742., 820., 648., 485., 273., 808., 486., 776., 327., 677., 644., 459., 979., 385., 820., 592., 527., 635., 657., 646., 227., 842., 916., 322., 870., 937., 204., 784., 978., 439., 475.])\n",
    "# y1 = np.array([920., 646., 575., 389., 175., 515., 355., 430., 262., 110., 413., 647., 272., 999., 928., 161., 870., 30., 518., 954., 362., 218., 293., 819., 771., 883., 888., 950., 633., 354., 360., 847., 595., 867., 334., 556., 505., 449., 254., 552., 323., 269., 834., 695., 715., 425., 751., 750., 693., 830.])\n",
    "\n",
    "\n",
    "# gmag0 = np.array([18.63490677, 21.03828239, 21.20196533, 20.04792786, 20.15839005, 21.31377983, 20.72852516, 19.53018951, 18.9980735, 21.11632347])\n",
    "# rmag0 = np.array([17.3069496, 19.2750549, 19.3131599, 18.4473247, 18.57680321, 19.31552124, 18.90965271, 18.04619217, 17.6364421, 19.22134781])\n",
    "\n",
    "# x = random.sample(range(1,1000), 100)\n",
    "# y = random.sample(range(1,1000), 100)\n",
    "\n",
    "# Create a 2D histogram that creates evenly-spaced bins and counts the points in each bin\n",
    "# H is the matrix with the number of points per bin\n",
    "# xedges, yedges are the bounds of the bins\n",
    "# H, xedges, yedges = np.histogram2d(x0, y0, bins=[5,5], normed=False)\n",
    "H, xedges, yedges = np.histogram2d(y0, x0, bins=[5,5], normed=False)\n",
    "print(H)\n",
    "print('-------')\n",
    "\n",
    "# Because of the form of the histogram, the matrix doesn't easily overlay onto the scatter plot which makes it hard\n",
    "# to plot and interpret. Rotating the matrix by 90 degrees fixes this problem.\n",
    "rotH = np.rot90(H, k=1)\n",
    "print(rotH)\n",
    "print('-------')\n",
    "# print(xedges)\n",
    "# print(yedges)\n",
    "\n",
    "# Uses the numbers counted in the histogram to calculate a surface density: For each cell, the number of sources\n",
    "# divided by the area (in this case I made the area == 2 for simplicity).\n",
    "sd = rotH/2.\n",
    "print(sd)\n",
    "# print('-------')\n",
    "\n",
    "# Scatter plot of points with bin lines drawn\n",
    "fig, ax = plt.subplots()\n",
    "ax.set_xticks(xedges, minor=False)\n",
    "ax.set_yticks(yedges, minor=True)\n",
    "ax.xaxis.grid(True, which='major')\n",
    "ax.yaxis.grid(True, which='minor')\n",
    "\n",
    "plt.scatter(x0,y0)\n",
    "# plt.gca().invert_xaxis()\n",
    "plt.show()\n",
    "\n",
    "# color codes bins by surface density with color bar; should make sense when compared to scatter plot\n",
    "plt.imshow(sd, cmap=plt.cm.PuRd, extent=(xedges[0], xedges[5], yedges[0], yedges[5]))\n",
    "plt.colorbar(orientation='vertical')\n",
    "plt.gca().invert_xaxis()\n",
    "plt.show()\n",
    "\n",
    "# Playing with only plotting one bin at a time. Not useful now but I don't want to forget it.\n",
    "# dx = x[np.where((x>=xedges[1]) & (x<=xedges[2]) & (y>=yedges[1]) & (y<=yedges[2]))]\n",
    "# dy = y[np.where((x>=xedges[1]) & (x<=xedges[2]) & (y>=yedges[1]) & (y<=yedges[2]))]\n",
    "\n",
    "# plt.scatter(dx,dy)\n",
    "# plt.show()"
   ]
  },
  {
   "cell_type": "code",
   "execution_count": 8,
   "metadata": {},
   "outputs": [
    {
     "name": "stdout",
     "output_type": "stream",
     "text": [
      "nn = [1 1 2 0 1 0 5 2 0 0]\n",
      "length of nn =  10\n",
      "length of nn index =  10\n",
      "nn index =  [array([25]) array([21]) array([6, 8]) array([], dtype=int64) array([14])\n",
      " array([], dtype=int64) array([16, 24, 26, 33, 46]) array([21, 38])\n",
      " array([], dtype=int64) array([], dtype=int64)]\n",
      "[6 8]\n"
     ]
    },
    {
     "ename": "IndexError",
     "evalue": "too many indices for array",
     "output_type": "error",
     "traceback": [
      "\u001b[0;31m---------------------------------------------------------------------------\u001b[0m",
      "\u001b[0;31mIndexError\u001b[0m                                Traceback (most recent call last)",
      "\u001b[0;32m<ipython-input-8-d64f134dc6f7>\u001b[0m in \u001b[0;36m<module>\u001b[0;34m()\u001b[0m\n\u001b[1;32m     48\u001b[0m \u001b[0mprint\u001b[0m\u001b[0;34m(\u001b[0m\u001b[0;34m\"nn index = \"\u001b[0m\u001b[0;34m,\u001b[0m \u001b[0mind\u001b[0m\u001b[0;34m)\u001b[0m\u001b[0;34m\u001b[0m\u001b[0m\n\u001b[1;32m     49\u001b[0m \u001b[0mprint\u001b[0m\u001b[0;34m(\u001b[0m\u001b[0mind\u001b[0m\u001b[0;34m[\u001b[0m\u001b[0;36m2\u001b[0m\u001b[0;34m]\u001b[0m\u001b[0;34m)\u001b[0m\u001b[0;34m\u001b[0m\u001b[0m\n\u001b[0;32m---> 50\u001b[0;31m \u001b[0mprint\u001b[0m\u001b[0;34m(\u001b[0m\u001b[0mind\u001b[0m\u001b[0;34m[\u001b[0m\u001b[0;36m2\u001b[0m\u001b[0;34m,\u001b[0m\u001b[0;36m0\u001b[0m\u001b[0;34m]\u001b[0m\u001b[0;34m)\u001b[0m\u001b[0;34m\u001b[0m\u001b[0m\n\u001b[0m\u001b[1;32m     51\u001b[0m \u001b[0;31m# print(type(ind[0]))\u001b[0m\u001b[0;34m\u001b[0m\u001b[0;34m\u001b[0m\u001b[0m\n\u001b[1;32m     52\u001b[0m \u001b[0;34m\u001b[0m\u001b[0m\n",
      "\u001b[0;31mIndexError\u001b[0m: too many indices for array"
     ]
    }
   ],
   "source": [
    "# Test for counting near neighbors\n",
    "\n",
    "# Fake LRG sources\n",
    "x0 = np.array([498., 572., 230., 409., 580., 746., 823., 699., 540., 400.])\n",
    "y0 = np.array([887., 177., 306., 402., 894., 288., 831., 235., 251., 426.])\n",
    "# print(x)\n",
    "# print(y)\n",
    "r = np.array([40., 100., 60., 30., 70., 4.0, 100., 60., 30., 70.])\n",
    "\n",
    "# Fake redshifts for LRGs\n",
    "z0 = np.array([0.1, 0.4, 0.2, 0.35, 0.23, 0.15, 0.45, 0.6, 0.3, 0.05])\n",
    "\n",
    "# Fake survey sources\n",
    "x1 = np.array([977., 721., 198., 594., 990., 841., 199., 873., 206., 888., 740., 541., 476., 780., 561., 359., 837., 690., 381., 742., 820., 648., 485., 273., 808., 486., 776., 327., 677., 644., 459., 979., 385., 820., 592., 527., 635., 657., 646., 227., 842., 916., 322., 870., 937., 204., 784., 978., 439., 475.])\n",
    "y1 = np.array([920., 646., 575., 389., 175., 515., 355., 430., 262., 110., 413., 647., 272., 999., 928., 161., 870., 30., 518., 954., 362., 218., 293., 819., 771., 883., 888., 950., 633., 354., 360., 847., 595., 867., 334., 556., 505., 449., 254., 552., 323., 269., 834., 695., 715., 425., 751., 750., 693., 830.])\n",
    "\n",
    "# Plots fake LRG sources and fake EDR sources\n",
    "# plt.scatter(x0,y0, color='blue')\n",
    "# plt.scatter(x1,y1, color='red')\n",
    "\n",
    "# Draws circle of some radius (50) around the LRG sources\n",
    "# circle = []\n",
    "# for i in range(len(x0)):\n",
    "#     circle = plt.Circle((x0[i],y0[i]), r[i], color='green', fill=False)\n",
    "#     plt.gcf().gca().add_artist(circle)\n",
    "\n",
    "# plt.show()\n",
    "\n",
    "# Creates a list of ordered pairs; zips ra and dec together so they can be fed into KDTree\n",
    "# zip_list0 = list(zip(x0, y0))\n",
    "zip_list0 = list(zip(x0, y0)) # Fake LRG sources\n",
    "zip_list1 = list(zip(x1, y1)) # Fake EDR sources\n",
    "# print(type(zip_list))\n",
    "# print(zip_list)\n",
    "# print(zip_list0[0])\n",
    "\n",
    "# Creates a tree of EDR sources\n",
    "gal_tree = KDTree(zip_list1)\n",
    "\n",
    "# returns a list of EDR sources that are within some radius of an LRG\n",
    "nn = gal_tree.query_radius(zip_list0,r=r,count_only=True)\n",
    "print(\"nn =\", nn)\n",
    "print(\"length of nn = \", len(nn))\n",
    "\n",
    "# find indices of near neighbors\n",
    "ind = gal_tree.query_radius(zip_list0,r=r)\n",
    "print(\"length of nn index = \", len(ind))\n",
    "print(\"nn index = \", ind)\n",
    "print(ind[2])\n",
    "# print(type(ind[0]))\n",
    "\n",
    "# # Plot for nn vs redshift\n",
    "# plt.scatter(nn, z0, color=\"purple\")\n",
    "# plt.show()\n",
    "\n",
    "# # Calculate color and plot nn vs gmag and (g-r) color\n",
    "\n",
    "# gmag = np.array([18.63490677, 21.03828239, 21.20196533, 20.04792786, 20.15839005, 21.31377983, 20.72852516, 19.53018951, 18.9980735, 21.11632347])\n",
    "# rmag = np.array([17.3069496, 19.2750549, 19.3131599, 18.4473247, 18.57680321, 19.31552124, 18.90965271, 18.04619217, 17.6364421, 19.22134781])\n",
    "\n",
    "# color = gmag - rmag\n",
    "\n",
    "# plt.scatter(nn, rmag, color=\"teal\")\n",
    "# plt.show()\n",
    "\n",
    "# plt.scatter(nn, color, color=\"orange\")\n",
    "# plt.show()\n",
    "\n",
    "# plt.scatter(nn, r, color=\"green\")\n",
    "# plt.show()\n",
    "\n",
    "# # plt.scatter(rmag, color, c=nn)\n",
    "# # plt.show()\n",
    "\n",
    "# cm = plt.cm.get_cmap('RdYlBu')\n",
    "\n",
    "# sc = plt.scatter(rmag, color, s = 10, c=nn, alpha=0.5, cmap=cm)\n",
    "# plt.colorbar(sc)\n",
    "# plt.xlabel(r'$r-mag$')\n",
    "# plt.ylabel(r'$(g-r)$ $color$')\n",
    "# plt.gca().invert_xaxis()\n",
    "# plt.show()\n"
   ]
  },
  {
   "cell_type": "code",
   "execution_count": 41,
   "metadata": {},
   "outputs": [
    {
     "data": {
      "image/png": "[encoded data removed]",
      "text/plain": [
       "<matplotlib.figure.Figure at 0x1a16863d30>"
      ]
     },
     "metadata": {},
     "output_type": "display_data"
    },
    {
     "data": {
      "image/png": "[encoded data removed]",
      "text/plain": [
       "<matplotlib.figure.Figure at 0x1a16974128>"
      ]
     },
     "metadata": {},
     "output_type": "display_data"
    }
   ],
   "source": [
    "# make mock CMD fake LRG sources\n",
    "\n",
    "gmag = np.array([18.63490677, 21.03828239, 21.20196533, 20.04792786, 20.15839005, 21.31377983, 20.72852516, 19.53018951, 18.9980735, 21.11632347])\n",
    "rmag = np.array([17.3069496, 19.2750549, 19.3131599, 18.4473247, 18.57680321, 19.31552124, 18.90965271, 18.04619217, 17.6364421, 19.22134781])\n",
    "\n",
    "color = gmag - rmag\n",
    "\n",
    "plt.scatter(rmag, color, color='green')\n",
    "plt.gca().invert_xaxis()\n",
    "plt.show()\n",
    "\n",
    "# find 2D histogram for CMD\n",
    "\n",
    "H, xedges, yedges = np.histogram2d(rmag, color, bins=[5,5], normed=False)\n",
    "\n",
    "fig, ax = plt.subplots()\n",
    "ax.set_xticks(xedges, minor=False)\n",
    "ax.set_yticks(yedges, minor=True)\n",
    "ax.xaxis.grid(True, which='major')\n",
    "ax.yaxis.grid(True, which='minor')\n",
    "\n",
    "plt.scatter(rmag,color)\n",
    "plt.gca().invert_xaxis()\n",
    "plt.show()"
   ]
  },
  {
   "cell_type": "code",
   "execution_count": 43,
   "metadata": {},
   "outputs": [
    {
     "data": {
      "image/png": "[encoded data removed]",
      "text/plain": [
       "<matplotlib.figure.Figure at 0x1a16223fd0>"
      ]
     },
     "metadata": {},
     "output_type": "display_data"
    },
    {
     "name": "stdout",
     "output_type": "stream",
     "text": [
      "2D hist\n",
      "\n",
      "[[  1.   0.   1.   0.   0.]\n",
      " [  0.   1.   2.   1.   0.]\n",
      " [  6.  10.   9.   5.   2.]\n",
      " [  1.   0.   0.   0.   7.]\n",
      " [  0.   0.   1.   1.   2.]]\n"
     ]
    },
    {
     "data": {
      "image/png": "[encoded data removed]",
      "text/plain": [
       "<matplotlib.figure.Figure at 0x1a1611f7f0>"
      ]
     },
     "metadata": {},
     "output_type": "display_data"
    },
    {
     "data": {
      "image/png": "[encoded data removed]",
      "text/plain": [
       "<matplotlib.figure.Figure at 0x1a168f9860>"
      ]
     },
     "metadata": {},
     "output_type": "display_data"
    }
   ],
   "source": [
    "# Fake EDR sources\n",
    "\n",
    "gmag1 = np.array([18.190702, 17.860029, 18.490376, 19.431778, 21.820837, 20.095238, 18.191208, 17.92448, 18.215328, 18.590332, 18.842909, 18.154316, 20.221233, 15.584373, 19.611717, 18.547148, 17.81884, 18.153547, 18.209368, 18.339615, 18.436972, 18.018217, 20.477499, 15.793666, 17.299936, 17.534184, 17.912783, 18.359669, 18.448116, 17.58688, 18.586212, 20.485641, 17.978889, 18.199383, 17.839111, 19.247328, 20.815678, 18.939732, 18.740555, 17.704433, 20.476809, 18.779524, 18.61795, 19.271307, 18.368336, 20.68718, 20.910795, 19.486134, 20.207657, 17.877981])\n",
    "rmag1 = np.array([17.426405, 16.87672, 16.996811, 17.761322, 20.165874, 18.343018, 17.33144, 16.584743, 17.72801, 17.518505, 17.522919, 17.491714, 18.46627, 14.589632, 18.01664, 17.477341, 16.946053, 17.36689, 17.393942, 17.425652, 17.560371, 17.308384, 19.477112, 15.405863, 16.391869, 16.942333, 17.196671, 17.284464, 17.256134, 16.564064, 17.306292, 19.058159, 17.25111, 17.773651, 17.220856, 17.708708, 18.989325, 17.556677, 17.559181, 16.480812, 18.805967, 17.561558, 17.418978, 17.68829, 17.360474, 18.909781, 19.064417, 18.852055, 18.490309, 17.283363])\n",
    "\n",
    "color1 = gmag1 - rmag1\n",
    "\n",
    "plt.scatter(rmag1, color1, color='hotpink')\n",
    "plt.gca().invert_xaxis()\n",
    "plt.show()\n",
    "\n",
    "# find surface density for CMD\n",
    "\n",
    "H, xedges, yedges = np.histogram2d(rmag1, color1, bins=[5,5], normed=False)\n",
    "print(\"2D hist\")\n",
    "print()\n",
    "print(H)\n",
    "\n",
    "fig, ax = plt.subplots()\n",
    "ax.set_xticks(xedges, minor=False)\n",
    "ax.set_yticks(yedges, minor=True)\n",
    "ax.xaxis.grid(True, which='major')\n",
    "ax.yaxis.grid(True, which='minor')\n",
    "\n",
    "plt.scatter(rmag1,color1)\n",
    "plt.gca().invert_xaxis()\n",
    "plt.show()\n",
    "\n",
    "# color codes bins by surface density with color bar; should make sense when compared to scatter plot\n",
    "plt.imshow(H, cmap=plt.cm.PuRd, extent=(xedges[0], xedges[5], yedges[0], yedges[5]))\n",
    "plt.colorbar(orientation='vertical')\n",
    "plt.gca().invert_xaxis()\n",
    "plt.show()"
   ]
  },
  {
   "cell_type": "code",
   "execution_count": 44,
   "metadata": {},
   "outputs": [
    {
     "data": {
      "image/png": "[encoded data removed]",
      "text/plain": [
       "<matplotlib.figure.Figure at 0x1a16a69be0>"
      ]
     },
     "metadata": {},
     "output_type": "display_data"
    }
   ],
   "source": [
    "# make CMD with fake LRGs and fake EDR sources on the same plot\n",
    "\n",
    "fig, ax = plt.subplots()\n",
    "ax.set_xticks(xedges, minor=False)\n",
    "ax.set_yticks(yedges, minor=True)\n",
    "ax.xaxis.grid(True, which='major')\n",
    "ax.yaxis.grid(True, which='minor')\n",
    "\n",
    "plt.scatter(rmag, color, color='green', s=10, label=\"fake LRG\")\n",
    "plt.scatter(rmag1, color1, color='hotpink', s=10, label=\"fake field\")\n",
    "plt.gca().invert_xaxis()\n",
    "plt.legend(loc='upper right')\n",
    "plt.show()"
   ]
  },
  {
   "cell_type": "code",
   "execution_count": 12,
   "metadata": {},
   "outputs": [
    {
     "name": "stdout",
     "output_type": "stream",
     "text": [
      "xedges1= [ 14.   15.4  16.8  18.2  19.6  21. ]\n",
      "yedges1= [ 0.3   0.64  0.98  1.32  1.66  2.  ]\n",
      "<class 'numpy.ndarray'>\n"
     ]
    },
    {
     "data": {
      "image/png": "[encoded data removed]",
      "text/plain": [
       "<matplotlib.figure.Figure at 0x1a1dcb0748>"
      ]
     },
     "metadata": {},
     "output_type": "display_data"
    },
    {
     "name": "stdout",
     "output_type": "stream",
     "text": [
      "(array([0, 1, 1]), array([3, 2, 3]))\n",
      "index LRG1 (array([1, 2, 5, 6, 9]),)\n",
      "index LRG2 (array([0, 7, 8]),)\n",
      "index LRG3 (array([3, 4]),)\n",
      "<class 'tuple'>\n"
     ]
    }
   ],
   "source": [
    "# Create a 2D histogram with defined xedges and yedges\n",
    "\n",
    "# Fake field\n",
    "H1, xedges1, yedges1 = np.histogram2d(rmag1, color1, bins=[5,5], range=[[14,21],[0.3,2.0]], normed=False)\n",
    "rotH1 = np.rot90(H1, k=1)\n",
    "rotH2 = np.rot90(H1, k=2)\n",
    "rotH3 = np.rot90(H1, k=3)\n",
    "rotH4 = np.rot90(H1, k=4)\n",
    "# print(\"H1\")\n",
    "# print(H1)\n",
    "# print(\"rotated H1\") \n",
    "# print(rotH1)\n",
    "# print(\"rotated H2\") \n",
    "# print(rotH2)\n",
    "# print(\"rotated H3\") \n",
    "# print(rotH3)\n",
    "# print(\"rotated H4\") \n",
    "# print(rotH4)\n",
    "print(\"xedges1=\", xedges1)\n",
    "print(\"yedges1=\", yedges1)\n",
    "# print(\"-----\")\n",
    "\n",
    "# Fake LRG\n",
    "H, xedges, yedges = np.histogram2d(rmag, color, bins=[5,5], range=[[14,21],[0.3,2.0]], normed=False)\n",
    "rotH = np.rot90(H, k=1)\n",
    "# print(\"H = \", H)\n",
    "# print(\"rotated H = \", rotH)\n",
    "# print(\"xedges=\", xedges)\n",
    "# print(\"yedges=\", yedges)\n",
    "print(type(xedges))\n",
    "\n",
    "fig, ax = plt.subplots()\n",
    "ax.set_xticks(xedges1, minor=False)\n",
    "ax.set_yticks(yedges1, minor=True)\n",
    "ax.xaxis.grid(True, which='major')\n",
    "ax.yaxis.grid(True, which='minor')\n",
    "\n",
    "plt.scatter(rmag, color, color='green', s=10, label=\"fake LRG\")\n",
    "plt.scatter(rmag1, color1, color='hotpink', s=10, label=\"fake field\")\n",
    "# plt.gca().invert_xaxis()\n",
    "# plt.legend(loc='upper right')\n",
    "plt.show()\n",
    "\n",
    "# index = np.where((rmag >= 18.2) & (rmag <= 19.6) & (color >= 1.66) & (color <= 2.))\n",
    "index_H = np.where(rotH > 0)\n",
    "print(index_H)\n",
    "\n",
    "index_LRG1 = np.where((rmag >= 18.2) & (rmag <= 19.6) & (color >= 1.66) & (color <= 2.))\n",
    "index_LRG2 = np.where((rmag >= 16.8) & (rmag <= 18.2) & (color >= 1.32) & (color <= 1.66))\n",
    "index_LRG3 = np.where((rmag >= 18.2) & (rmag <= 19.6) & (color >= 1.32) & (color <= 1.66))\n",
    "\n",
    "# index_LRG1 = np.array(index_LRG1)\n",
    "# index_LRG2 = np.array(index_LRG2)\n",
    "# index_LRG3 = np.array(index_LRG3)\n",
    "\n",
    "# print(index_LRG)\n",
    "# print(len(index_LRG))\n",
    "print(\"index LRG1\", index_LRG1)\n",
    "print(\"index LRG2\",index_LRG2)\n",
    "print(\"index LRG3\",index_LRG3)\n",
    "print(type(index_LRG1))\n",
    "\n",
    "# index_nn = index_LRG\n",
    "# print(index_nn)\n",
    "\n",
    "# for i in range(len(index_H)):\n",
    "#     index_LRG = np.where(index_H[i])\n",
    "#     print(index_LRG)\n",
    "\n",
    "# print(rotH[0,3])"
   ]
  },
  {
   "cell_type": "code",
   "execution_count": 8,
   "metadata": {},
   "outputs": [
    {
     "name": "stdout",
     "output_type": "stream",
     "text": [
      "[(array([], dtype=int64),), (array([0]),), (array([0]),), (array([], dtype=int64),), (array([], dtype=int64),), (array([0]),), (array([0]),), (array([], dtype=int64),), (array([], dtype=int64),), (array([0]),)]\n",
      "10\n"
     ]
    }
   ],
   "source": [
    "# What I want out of this section of code: I want a list of the LRG indices that are in each CM bin.\n",
    "\n",
    "# new_array = np.zeros_like(rotH)\n",
    "# print(new_array) \n",
    "\n",
    "# print(index_H)\n",
    "# print(rotH)\n",
    "\n",
    "c, mag = index_H\n",
    "zip_list = list(zip(c, mag))\n",
    "# print(type(zip_list[0]))\n",
    "# print(zip_list)\n",
    "# print(c)\n",
    "# print(mag)\n",
    "\n",
    "index_LRG = []\n",
    "index = []\n",
    "\n",
    "# for i in range(len(xedges)-1):\n",
    "# #     print(i)\n",
    "#     for j in range(len(yedges)-1):\n",
    "# #         print(j)\n",
    "#         for k in range(len(rmag)):\n",
    "#             if ((rmag[k] >= xedges[i]) & (rmag[k] <= xedges[i+1]) & (color[k] >= yedges[j]) & (color[k] <= yedges[j+1])):\n",
    "#                 dex = np.where(rmag[k]) # >= xedges[i]) & (rmag[k] <= xedges[i+1]) & (color[k] >= yedges[j]) & (color[k] <= yedges[j+1]))\n",
    "# #                 index_LRG.append(np.where(index))\n",
    "#                 index.append(tuple(dex))\n",
    "        \n",
    "# index_LRG = np.array(index_LRG)\n",
    "# index = index_LRG[np.where(index_LRG > 0)]\n",
    "# print(index) \n",
    "# print(type(index_LRG[0]))\n",
    "\n",
    "for k in range(len(rmag)):\n",
    "    dex = np.where((rmag[k] >= 18.2) & (rmag[k] <= 19.6) & (color[k] >= 1.66) & (color[k] <= 2.))\n",
    "    index.append(tuple(dex))\n",
    "        \n",
    "print(index)\n",
    "print(len(index))"
   ]
  },
  {
   "cell_type": "code",
   "execution_count": 9,
   "metadata": {},
   "outputs": [
    {
     "name": "stdout",
     "output_type": "stream",
     "text": [
      "[1256.6370614359173, 7853.981633974483, 2827.4333882308138, 706.85834705770344, 3848.4510006474966, 1256.6370614359173, 7853.981633974483, 2827.4333882308138, 706.85834705770344, 3848.4510006474966]\n",
      "10\n",
      "[628.31853071795865, 3926.9908169872415, 1413.7166941154069, 353.42917352885172, 1924.2255003237483, 628.31853071795865, 3926.9908169872415, 1413.7166941154069, 353.42917352885172, 1924.2255003237483]\n"
     ]
    }
   ],
   "source": [
    "# calculates solid angle (in radians) subtending projected radius r\n",
    "\n",
    "omega = []\n",
    "\n",
    "# omega = np.pi * (r[1]/2.)**2.\n",
    "\n",
    "\n",
    "for i in range(len(r)):\n",
    "    ang = np.pi * (r[i]/2.)**2.\n",
    "    omega.append(ang)\n",
    "\n",
    "print(omega)\n",
    "# print(r[1]) \n",
    "\n",
    "Nbkg = []\n",
    "# sd = 0.5\n",
    "\n",
    "for i in range(len(omega)):\n",
    "    interlop = sd * omega[i]\n",
    "    Nbkg.append(interlop)\n",
    "\n",
    "print(len(Nbkg))\n",
    "print(Nbkg)"
   ]
  },
  {
   "cell_type": "code",
   "execution_count": 18,
   "metadata": {},
   "outputs": [
    {
     "name": "stdout",
     "output_type": "stream",
     "text": [
      "10\n",
      "[1 1 2 0 1 0 5 2 0 0]\n",
      "[ -627.31853072 -3925.99081699 -1411.71669412  -353.42917353 -1923.22550032\n",
      "  -628.31853072 -3921.99081699 -1411.71669412  -353.42917353 -1924.22550032]\n"
     ]
    }
   ],
   "source": [
    "numsats = nn - Nbkg\n",
    "\n",
    "print(len(numsats))\n",
    "print(nn)\n",
    "print(numsats)"
   ]
  },
  {
   "cell_type": "code",
   "execution_count": null,
   "metadata": {
    "collapsed": true
   },
   "outputs": [],
   "source": []
  },
  {
   "cell_type": "code",
   "execution_count": null,
   "metadata": {
    "collapsed": true
   },
   "outputs": [],
   "source": []
  }
 ],
 "metadata": {
  "kernelspec": {
   "display_name": "Python 3",
   "language": "python",
   "name": "python3"
  },
  "language_info": {
   "codemirror_mode": {
    "name": "ipython",
    "version": 3
   },
   "file_extension": ".py",
   "mimetype": "text/x-python",
   "name": "python",
   "nbconvert_exporter": "python",
   "pygments_lexer": "ipython3",
   "version": "3.6.1"
  }
 },
 "nbformat": 4,
 "nbformat_minor": 2
}
