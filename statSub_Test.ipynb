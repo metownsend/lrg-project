{
 "cells": [
  {
   "cell_type": "code",
   "execution_count": 1,
   "metadata": {
    "collapsed": true
   },
   "outputs": [],
   "source": [
    "from astropy.io import fits\n",
    "from astropy.table import Table\n",
    "import numpy as np\n",
    "import matplotlib.pylab as plt \n",
    "import matplotlib.lines as mlines\n",
    "from matplotlib.legend import Legend\n",
    "# from pythonds.basic.stack import Stack\n",
    "from math import *\n",
    "import random\n",
    "from sklearn.neighbors import KDTree\n",
    "import random"
   ]
  },
  {
   "cell_type": "code",
   "execution_count": 2,
   "metadata": {},
   "outputs": [
    {
     "name": "stdout",
     "output_type": "stream",
     "text": [
      "[[ 1.  0.  2.  1.  1.]\n",
      " [ 0.  2.  0.  0.  0.]\n",
      " [ 0.  0.  0.  0.  0.]\n",
      " [ 0.  0.  0.  0.  0.]\n",
      " [ 0.  0.  2.  0.  1.]]\n",
      "-------\n",
      "[[ 1.  0.  0.  0.  1.]\n",
      " [ 1.  0.  0.  0.  0.]\n",
      " [ 2.  0.  0.  0.  2.]\n",
      " [ 0.  2.  0.  0.  0.]\n",
      " [ 1.  0.  0.  0.  0.]]\n",
      "-------\n",
      "[[ 0.5  0.   0.   0.   0.5]\n",
      " [ 0.5  0.   0.   0.   0. ]\n",
      " [ 1.   0.   0.   0.   1. ]\n",
      " [ 0.   1.   0.   0.   0. ]\n",
      " [ 0.5  0.   0.   0.   0. ]]\n"
     ]
    },
    {
     "data": {
      "image/png": "[encoded data removed]",
      "text/plain": [
       "<matplotlib.figure.Figure at 0x1a09359518>"
      ]
     },
     "metadata": {},
     "output_type": "display_data"
    },
    {
     "data": {
      "image/png": "[encoded data removed]",
      "text/plain": [
       "<matplotlib.figure.Figure at 0x1a10b58588>"
      ]
     },
     "metadata": {},
     "output_type": "display_data"
    }
   ],
   "source": [
    "# Test to calculate surface density\n",
    "\n",
    "# Some fake LRGs\n",
    "x0 = np.array([498., 572., 230., 409., 580., 746., 823., 699., 540., 400.])\n",
    "y0 = np.array([887., 177., 306., 402., 894., 288., 831., 235., 251., 426.])\n",
    "\n",
    "# x1 = np.array([977., 721., 198., 594., 990., 841., 199., 873., 206., 888., 740., 541., 476., 780., 561., 359., 837., 690., 381., 742., 820., 648., 485., 273., 808., 486., 776., 327., 677., 644., 459., 979., 385., 820., 592., 527., 635., 657., 646., 227., 842., 916., 322., 870., 937., 204., 784., 978., 439., 475.])\n",
    "# y1 = np.array([920., 646., 575., 389., 175., 515., 355., 430., 262., 110., 413., 647., 272., 999., 928., 161., 870., 30., 518., 954., 362., 218., 293., 819., 771., 883., 888., 950., 633., 354., 360., 847., 595., 867., 334., 556., 505., 449., 254., 552., 323., 269., 834., 695., 715., 425., 751., 750., 693., 830.])\n",
    "\n",
    "\n",
    "# gmag0 = np.array([18.63490677, 21.03828239, 21.20196533, 20.04792786, 20.15839005, 21.31377983, 20.72852516, 19.53018951, 18.9980735, 21.11632347])\n",
    "# rmag0 = np.array([17.3069496, 19.2750549, 19.3131599, 18.4473247, 18.57680321, 19.31552124, 18.90965271, 18.04619217, 17.6364421, 19.22134781])\n",
    "\n",
    "# x = random.sample(range(1,1000), 100)\n",
    "# y = random.sample(range(1,1000), 100)\n",
    "\n",
    "# Create a 2D histogram that creates evenly-spaced bins and counts the points in each bin\n",
    "# H is the matrix with the number of points per bin\n",
    "# xedges, yedges are the bounds of the bins\n",
    "# H, xedges, yedges = np.histogram2d(x0, y0, bins=[5,5], normed=False)\n",
    "H, xedges, yedges = np.histogram2d(y0, x0, bins=[5,5], normed=False)\n",
    "print(H)\n",
    "print('-------')\n",
    "\n",
    "# Because of the form of the histogram, the matrix doesn't easily overlay onto the scatter plot which makes it hard\n",
    "# to plot and interpret. Rotating the matrix by 90 degrees fixes this problem.\n",
    "rotH = np.rot90(H, k=1)\n",
    "print(rotH)\n",
    "print('-------')\n",
    "# print(xedges)\n",
    "# print(yedges)\n",
    "\n",
    "# Uses the numbers counted in the histogram to calculate a surface density: For each cell, the number of sources\n",
    "# divided by the area (in this case I made the area == 2 for simplicity).\n",
    "sd = rotH/2.\n",
    "print(sd)\n",
    "# print('-------')\n",
    "\n",
    "# Scatter plot of points with bin lines drawn\n",
    "fig, ax = plt.subplots()\n",
    "ax.set_xticks(xedges, minor=False)\n",
    "ax.set_yticks(yedges, minor=True)\n",
    "ax.xaxis.grid(True, which='major')\n",
    "ax.yaxis.grid(True, which='minor')\n",
    "\n",
    "plt.scatter(x0,y0)\n",
    "# plt.gca().invert_xaxis()\n",
    "plt.show()\n",
    "\n",
    "# color codes bins by surface density with color bar; should make sense when compared to scatter plot\n",
    "plt.imshow(sd, cmap=plt.cm.PuRd, extent=(xedges[0], xedges[5], yedges[0], yedges[5]))\n",
    "plt.colorbar(orientation='vertical')\n",
    "plt.gca().invert_xaxis()\n",
    "plt.show()\n",
    "\n",
    "# Playing with only plotting one bin at a time. Not useful now but I don't want to forget it.\n",
    "# dx = x[np.where((x>=xedges[1]) & (x<=xedges[2]) & (y>=yedges[1]) & (y<=yedges[2]))]\n",
    "# dy = y[np.where((x>=xedges[1]) & (x<=xedges[2]) & (y>=yedges[1]) & (y<=yedges[2]))]\n",
    "\n",
    "# plt.scatter(dx,dy)\n",
    "# plt.show()"
   ]
  },
  {
   "cell_type": "code",
   "execution_count": 18,
   "metadata": {},
   "outputs": [
    {
     "name": "stdout",
     "output_type": "stream",
     "text": [
      "length x0 =  10\n",
      "length y0 =  10\n",
      "length r =  10\n",
      "r =  [28.998727139805762, 22.015563679080618, 29.32647375558905, 11.098813374835585, 40.852741316508684, 41.35585475413883, 33.02015416115761, 8.851248269422163, 26.512798622356303, 17.060867769482563]\n",
      "length x1 =  100\n",
      "length y1 =  100\n",
      "nn = [32 11 31  2 45 44 43  1 24  8]\n",
      "length of nn =  10\n",
      "length of nn index =  10\n",
      "nn index =  [ array([ 1, 13, 34, 35, 39, 53, 71, 78, 92, 95, 98, 54, 68, 72, 74, 79, 38,\n",
      "       91, 76, 22, 67, 33, 27, 63, 80, 77, 51, 17, 43,  0, 89, 59])\n",
      " array([13, 47, 60, 71, 78, 84, 92, 95, 79, 38, 67])\n",
      " array([ 1, 13, 34, 35, 53, 71, 78, 92, 95, 98, 54, 68, 72, 74, 79, 38, 91,\n",
      "       76, 22, 67, 33, 27, 63, 80, 77, 51, 17, 43,  0, 89, 59])\n",
      " array([36, 50])\n",
      " array([34, 42, 45, 46, 53, 98, 54, 68, 72, 74, 79, 38, 91, 76, 22, 33, 27,\n",
      "       63, 24, 80, 81, 10, 77, 51, 17, 55, 43, 32, 61, 62, 44, 30, 11,  0,\n",
      "        2, 20, 26, 52, 89, 90, 70,  5, 59,  7, 19])\n",
      " array([34, 42, 45, 46, 53, 98, 54, 68, 72, 74, 79, 38, 91, 76, 22, 33, 27,\n",
      "       63, 24, 80, 81, 10, 77, 51, 17, 55, 43, 32, 61, 62, 44, 11,  0,  2,\n",
      "       20, 26, 52, 89, 90, 70,  5, 59,  7, 19])\n",
      " array([34, 35, 42, 45, 46, 53, 71, 95, 98, 54, 68, 72, 74, 79, 38, 91, 76,\n",
      "       22, 67, 33, 27, 63, 80, 81, 10, 77, 51, 17, 55, 43, 32, 62, 44, 30,\n",
      "       11,  0, 52, 89, 90, 70, 31,  5, 59])\n",
      " array([36])\n",
      " array([ 1, 13, 25, 34, 35, 53, 71, 78, 92, 95, 54, 68, 74, 79, 38, 91, 76,\n",
      "       22, 67, 33, 27, 63, 77, 51])\n",
      " array([13, 47, 50, 60, 78, 84, 86, 92])]\n",
      "index 0 = [ 1 13 34 35 39 53 71 78 92 95 98 54 68 72 74 79 38 91 76 22 67 33 27 63 80\n",
      " 77 51 17 43  0 89 59]\n",
      "index 1 = [13 47 60 71 78 84 92 95 79 38 67]\n",
      "<class 'numpy.ndarray'>\n",
      "<class 'numpy.ndarray'>\n",
      "[ 1 13 34 35 39 53 71 78 92 95 98 54 68 72 74 79 38 91 76 22 67 33 27 63 80\n",
      " 77 51 17 43  0 89 59]\n",
      "1\n"
     ]
    }
   ],
   "source": [
    "# Test for counting near neighbors\n",
    "\n",
    "# random.seed(1000)\n",
    "\n",
    "# Fake coordinates for LRG sources\n",
    "for i in range(10):\n",
    "    random.seed(10)\n",
    "    x0 = [random.uniform(1,100) for j in range(10)]\n",
    "\n",
    "for i in range(10):\n",
    "    random.seed(10)\n",
    "    y0 = [random.uniform(1,100) for j in range(10)]\n",
    "\n",
    "print(\"length x0 = \", len(x0))\n",
    "print(\"length y0 = \", len(y0))\n",
    "# print(\"x0 = \", x0)\n",
    "# print(\"y0 = \", y0)\n",
    "\n",
    "# Projected radius from LRG (in real code calculated using cosmocalc)\n",
    "for i in range(10):\n",
    "    random.seed(10)\n",
    "    r = [random.uniform(1,50) for j in range(10)]\n",
    "    \n",
    "print(\"length r = \", len(r))\n",
    "print(\"r = \", r)\n",
    "\n",
    "# Fake redshifts for LRGs\n",
    "# z0 = np.array([0.1, 0.4, 0.2, 0.35, 0.23, 0.15, 0.45, 0.6, 0.3, 0.05])\n",
    "\n",
    "# Fake coordinates for survey sources\n",
    "for i in range(1000):\n",
    "    x1 = [random.uniform(1,100) for j in range(100)]\n",
    "\n",
    "for i in range(1000):\n",
    "    y1 = [random.uniform(1,100) for j in range(100)]\n",
    "    \n",
    "print(\"length x1 = \", len(x1))\n",
    "print(\"length y1 = \", len(y1))\n",
    "# print(\"x1 = \", x1[0])\n",
    "# print(\"y1 = \", y1[0])\n",
    "\n",
    "# Plots fake LRG sources and fake EDR sources\n",
    "# plt.scatter(x0,y0, color='blue')\n",
    "# plt.scatter(x1,y1, color='red')\n",
    "\n",
    "# Draws circle of some radius (50) around the LRG sources\n",
    "# circle = []\n",
    "# for i in range(len(x0)):\n",
    "#     circle = plt.Circle((x0[i],y0[i]), r[i], color='green', fill=False)\n",
    "#     plt.gcf().gca().add_artist(circle)\n",
    "\n",
    "# plt.show()\n",
    "\n",
    "# Creates a list of ordered pairs; zips ra and dec together so they can be fed into KDTree\n",
    "# zip_list0 = list(zip(x0, y0))\n",
    "zip_list0 = list(zip(x0, y0)) # Fake LRG sources\n",
    "zip_list1 = list(zip(x1, y1)) # Fake EDR sources\n",
    "# print(type(zip_list))\n",
    "# print(zip_list)\n",
    "# print(zip_list0[0])\n",
    "\n",
    "# Creates a tree of EDR sources\n",
    "gal_tree = KDTree(zip_list1)\n",
    "\n",
    "# returns a list of EDR sources that are within some radius of an LRG\n",
    "nn = gal_tree.query_radius(zip_list0,r=r,count_only=True)\n",
    "print(\"nn =\", nn)\n",
    "print(\"length of nn = \", len(nn))\n",
    "\n",
    "# find indices of near neighbors\n",
    "ind = gal_tree.query_radius(zip_list0,r=r)\n",
    "print(\"length of nn index = \", len(ind))\n",
    "print(\"nn index = \", ind)\n",
    "print(\"index 0 =\", ind[0])\n",
    "print(\"index 1 =\", ind[1])\n",
    "print(type(ind[0]))\n",
    "print(type(ind))\n",
    "\n",
    "ind0 = ind[0]\n",
    "print(ind0)\n",
    "print(ind0[0])\n",
    "\n",
    "# # Plot for nn vs redshift\n",
    "# plt.scatter(nn, z0, color=\"purple\")\n",
    "# plt.show()\n",
    "\n",
    "# # Calculate color and plot nn vs gmag and (g-r) color\n",
    "\n",
    "# gmag = np.array([18.63490677, 21.03828239, 21.20196533, 20.04792786, 20.15839005, 21.31377983, 20.72852516, 19.53018951, 18.9980735, 21.11632347])\n",
    "# rmag = np.array([17.3069496, 19.2750549, 19.3131599, 18.4473247, 18.57680321, 19.31552124, 18.90965271, 18.04619217, 17.6364421, 19.22134781])\n",
    "\n",
    "# color = gmag - rmag\n",
    "\n",
    "# plt.scatter(nn, rmag, color=\"teal\")\n",
    "# plt.show()\n",
    "\n",
    "# plt.scatter(nn, color, color=\"orange\")\n",
    "# plt.show()\n",
    "\n",
    "# plt.scatter(nn, r, color=\"green\")\n",
    "# plt.show()\n",
    "\n",
    "# # plt.scatter(rmag, color, c=nn)\n",
    "# # plt.show()\n",
    "\n",
    "# cm = plt.cm.get_cmap('RdYlBu')\n",
    "\n",
    "# sc = plt.scatter(rmag, color, s = 10, c=nn, alpha=0.5, cmap=cm)\n",
    "# plt.colorbar(sc)\n",
    "# plt.xlabel(r'$r-mag$')\n",
    "# plt.ylabel(r'$(g-r)$ $color$')\n",
    "# plt.gca().invert_xaxis()\n",
    "# plt.show()\n"
   ]
  },
  {
   "cell_type": "code",
   "execution_count": 50,
   "metadata": {},
   "outputs": [
    {
     "name": "stdout",
     "output_type": "stream",
     "text": [
      "length ind =  10\n"
     ]
    },
    {
     "ename": "IndexError",
     "evalue": "index 13 is out of bounds for axis 1 with size 10",
     "output_type": "error",
     "traceback": [
      "\u001b[0;31m---------------------------------------------------------------------------\u001b[0m",
      "\u001b[0;31mIndexError\u001b[0m                                Traceback (most recent call last)",
      "\u001b[0;32m<ipython-input-50-9e5434730c8c>\u001b[0m in \u001b[0;36m<module>\u001b[0;34m()\u001b[0m\n\u001b[1;32m      9\u001b[0m \u001b[0;34m\u001b[0m\u001b[0m\n\u001b[1;32m     10\u001b[0m \u001b[0;32mfor\u001b[0m \u001b[0mi\u001b[0m \u001b[0;32min\u001b[0m \u001b[0mind\u001b[0m\u001b[0;34m:\u001b[0m\u001b[0;34m\u001b[0m\u001b[0m\n\u001b[0;32m---> 11\u001b[0;31m     \u001b[0;32mfor\u001b[0m \u001b[0mj\u001b[0m \u001b[0;32min\u001b[0m \u001b[0mind\u001b[0m\u001b[0;34m[\u001b[0m\u001b[0mi\u001b[0m\u001b[0;34m]\u001b[0m\u001b[0;34m:\u001b[0m\u001b[0;34m\u001b[0m\u001b[0m\n\u001b[0m\u001b[1;32m     12\u001b[0m         \u001b[0mindex\u001b[0m\u001b[0;34m.\u001b[0m\u001b[0mappend\u001b[0m\u001b[0;34m(\u001b[0m\u001b[0mind\u001b[0m\u001b[0;34m[\u001b[0m\u001b[0mj\u001b[0m\u001b[0;34m]\u001b[0m\u001b[0;34m)\u001b[0m\u001b[0;34m\u001b[0m\u001b[0m\n\u001b[1;32m     13\u001b[0m         \u001b[0mra\u001b[0m\u001b[0;34m.\u001b[0m\u001b[0mappend\u001b[0m\u001b[0;34m(\u001b[0m\u001b[0mx1\u001b[0m\u001b[0;34m[\u001b[0m\u001b[0mindex\u001b[0m\u001b[0;34m]\u001b[0m\u001b[0;34m)\u001b[0m\u001b[0;34m\u001b[0m\u001b[0m\n",
      "\u001b[0;31mIndexError\u001b[0m: index 13 is out of bounds for axis 1 with size 10"
     ]
    }
   ],
   "source": [
    "ra = []\n",
    "dec = []\n",
    "index = []\n",
    "counter = 0\n",
    "print(\"length ind = \", len(ind))\n",
    "# print(len(ind[1]))\n",
    "\n",
    "# [print(i) for i in ind]\n",
    "\n",
    "for i in ind:\n",
    "    for j in ind[i]:\n",
    "        index.append(ind[j])\n",
    "        ra.append(x1[index])\n",
    "\n",
    "# if (counter < len(ind)):\n",
    "#     print(\"counter = \", counter)\n",
    "#     counter += 1\n",
    "#     index.append(ind[counter])\n",
    "#     print(index)\n",
    "#     counter += 1\n",
    "#     for j in range(len(index[i])):\n",
    "#         ra.append(x1[index[j]])\n",
    "#         dec.append(y1[index[j]])\n",
    "#         plt.scatter(ra, dec, color=\"teal\")\n",
    "#         plt.show()\n",
    " "
   ]
  },
  {
   "cell_type": "code",
   "execution_count": 17,
   "metadata": {},
   "outputs": [
    {
     "name": "stdout",
     "output_type": "stream",
     "text": [
      "length gmag_survey =  100\n",
      "length rmag_survey =  100\n",
      "gmag_survey =  10.793440520765175\n",
      "rmag_survey =  72.56187788420849\n",
      "32\n",
      "32\n",
      "32\n",
      "<class 'list'>\n"
     ]
    },
    {
     "data": {
      "image/png": "[encoded data removed]",
      "text/plain": [
       "<matplotlib.figure.Figure at 0x1a10d523c8>"
      ]
     },
     "metadata": {},
     "output_type": "display_data"
    }
   ],
   "source": [
    "# Make CMDs for LRG near neighbors\n",
    "\n",
    "# First, make one CMD for one set of near neighbors \n",
    "\n",
    "# Magnitudes for survey sources\n",
    "for i in range(1000):\n",
    "    gmag_survey = [random.uniform(1,100) for j in range(100)]\n",
    "    rmag_survey = [random.uniform(1,100) for j in range(100)]\n",
    "    \n",
    "print(\"length gmag_survey = \", len(gmag_survey))\n",
    "print(\"length rmag_survey = \", len(rmag_survey))\n",
    "# print(\"gmag_survey = \", gmag_survey[0])\n",
    "# print(\"rmag_survey = \", rmag_survey[0])\n",
    "\n",
    "# split = np.split(ind, 1)\n",
    "# print(split)\n",
    "# print(type(split[0]))\n",
    "# print(type(split))\n",
    "\n",
    "gmag_near0 = []\n",
    "rmag_near0 = []\n",
    "\n",
    "for i in range(len(ind0)):\n",
    "    gmag_near0.append(gmag_survey[ind0[i]])\n",
    "    rmag_near0.append(rmag_survey[ind0[i]])\n",
    "\n",
    "# print(gmag_near0)\n",
    "# print(rmag_near0)\n",
    "print(len(ind0))\n",
    "print(len(gmag_near0))\n",
    "print(len(rmag_near0))\n",
    "print(type(rmag_near0))\n",
    "\n",
    "gmag_near0 = np.array(gmag_near0)\n",
    "rmag_near0 = np.array(rmag_near0)\n",
    "\n",
    "color = gmag_near0 - rmag_near0\n",
    "\n",
    "plt.scatter(rmag_near0, color, color=\"teal\")\n",
    "plt.show()"
   ]
  },
  {
   "cell_type": "code",
   "execution_count": 31,
   "metadata": {},
   "outputs": [
    {
     "data": {
      "image/png": "[encoded data removed]",
      "text/plain": [
       "<matplotlib.figure.Figure at 0x10a1602b0>"
      ]
     },
     "metadata": {},
     "output_type": "display_data"
    },
    {
     "data": {
      "image/png": "[encoded data removed]",
      "text/plain": [
       "<matplotlib.figure.Figure at 0x109d74ac8>"
      ]
     },
     "metadata": {},
     "output_type": "display_data"
    }
   ],
   "source": [
    "# make mock CMD fake LRG sources\n",
    "\n",
    "gmag = np.array([18.63490677, 21.03828239, 21.20196533, 20.04792786, 20.15839005, 21.31377983, 20.72852516, 19.53018951, 18.9980735, 21.11632347])\n",
    "rmag = np.array([17.3069496, 19.2750549, 19.3131599, 18.4473247, 18.57680321, 19.31552124, 18.90965271, 18.04619217, 17.6364421, 19.22134781])\n",
    "\n",
    "color = gmag - rmag\n",
    "\n",
    "plt.scatter(rmag, color, color='green')\n",
    "plt.gca().invert_xaxis()\n",
    "plt.show()\n",
    "\n",
    "# find 2D histogram for CMD\n",
    "\n",
    "H, xedges, yedges = np.histogram2d(rmag, color, bins=[5,5], normed=False)\n",
    "\n",
    "fig, ax = plt.subplots()\n",
    "ax.set_xticks(xedges, minor=False)\n",
    "ax.set_yticks(yedges, minor=True)\n",
    "ax.xaxis.grid(True, which='major')\n",
    "ax.yaxis.grid(True, which='minor')\n",
    "\n",
    "plt.scatter(rmag,color)\n",
    "plt.gca().invert_xaxis()\n",
    "plt.show()"
   ]
  },
  {
   "cell_type": "code",
   "execution_count": 43,
   "metadata": {},
   "outputs": [
    {
     "data": {
      "image/png": "[encoded data removed]",
      "text/plain": [
       "<matplotlib.figure.Figure at 0x1a16223fd0>"
      ]
     },
     "metadata": {},
     "output_type": "display_data"
    },
    {
     "name": "stdout",
     "output_type": "stream",
     "text": [
      "2D hist\n",
      "\n",
      "[[  1.   0.   1.   0.   0.]\n",
      " [  0.   1.   2.   1.   0.]\n",
      " [  6.  10.   9.   5.   2.]\n",
      " [  1.   0.   0.   0.   7.]\n",
      " [  0.   0.   1.   1.   2.]]\n"
     ]
    },
    {
     "data": {
      "image/png": "[encoded data removed]",
      "text/plain": [
       "<matplotlib.figure.Figure at 0x1a1611f7f0>"
      ]
     },
     "metadata": {},
     "output_type": "display_data"
    },
    {
     "data": {
      "image/png": "[encoded data removed]",
      "text/plain": [
       "<matplotlib.figure.Figure at 0x1a168f9860>"
      ]
     },
     "metadata": {},
     "output_type": "display_data"
    }
   ],
   "source": [
    "# Fake EDR sources\n",
    "\n",
    "gmag1 = np.array([18.190702, 17.860029, 18.490376, 19.431778, 21.820837, 20.095238, 18.191208, 17.92448, 18.215328, 18.590332, 18.842909, 18.154316, 20.221233, 15.584373, 19.611717, 18.547148, 17.81884, 18.153547, 18.209368, 18.339615, 18.436972, 18.018217, 20.477499, 15.793666, 17.299936, 17.534184, 17.912783, 18.359669, 18.448116, 17.58688, 18.586212, 20.485641, 17.978889, 18.199383, 17.839111, 19.247328, 20.815678, 18.939732, 18.740555, 17.704433, 20.476809, 18.779524, 18.61795, 19.271307, 18.368336, 20.68718, 20.910795, 19.486134, 20.207657, 17.877981])\n",
    "rmag1 = np.array([17.426405, 16.87672, 16.996811, 17.761322, 20.165874, 18.343018, 17.33144, 16.584743, 17.72801, 17.518505, 17.522919, 17.491714, 18.46627, 14.589632, 18.01664, 17.477341, 16.946053, 17.36689, 17.393942, 17.425652, 17.560371, 17.308384, 19.477112, 15.405863, 16.391869, 16.942333, 17.196671, 17.284464, 17.256134, 16.564064, 17.306292, 19.058159, 17.25111, 17.773651, 17.220856, 17.708708, 18.989325, 17.556677, 17.559181, 16.480812, 18.805967, 17.561558, 17.418978, 17.68829, 17.360474, 18.909781, 19.064417, 18.852055, 18.490309, 17.283363])\n",
    "\n",
    "color1 = gmag1 - rmag1\n",
    "\n",
    "plt.scatter(rmag1, color1, color='hotpink')\n",
    "plt.gca().invert_xaxis()\n",
    "plt.show()\n",
    "\n",
    "# find surface density for CMD\n",
    "\n",
    "H, xedges, yedges = np.histogram2d(rmag1, color1, bins=[5,5], normed=False)\n",
    "print(\"2D hist\")\n",
    "print()\n",
    "print(H)\n",
    "\n",
    "fig, ax = plt.subplots()\n",
    "ax.set_xticks(xedges, minor=False)\n",
    "ax.set_yticks(yedges, minor=True)\n",
    "ax.xaxis.grid(True, which='major')\n",
    "ax.yaxis.grid(True, which='minor')\n",
    "\n",
    "plt.scatter(rmag1,color1)\n",
    "plt.gca().invert_xaxis()\n",
    "plt.show()\n",
    "\n",
    "# color codes bins by surface density with color bar; should make sense when compared to scatter plot\n",
    "plt.imshow(H, cmap=plt.cm.PuRd, extent=(xedges[0], xedges[5], yedges[0], yedges[5]))\n",
    "plt.colorbar(orientation='vertical')\n",
    "plt.gca().invert_xaxis()\n",
    "plt.show()"
   ]
  },
  {
   "cell_type": "code",
   "execution_count": 44,
   "metadata": {},
   "outputs": [
    {
     "data": {
      "image/png": "[encoded data removed]",
      "text/plain": [
       "<matplotlib.figure.Figure at 0x1a16a69be0>"
      ]
     },
     "metadata": {},
     "output_type": "display_data"
    }
   ],
   "source": [
    "# make CMD with fake LRGs and fake EDR sources on the same plot\n",
    "\n",
    "fig, ax = plt.subplots()\n",
    "ax.set_xticks(xedges, minor=False)\n",
    "ax.set_yticks(yedges, minor=True)\n",
    "ax.xaxis.grid(True, which='major')\n",
    "ax.yaxis.grid(True, which='minor')\n",
    "\n",
    "plt.scatter(rmag, color, color='green', s=10, label=\"fake LRG\")\n",
    "plt.scatter(rmag1, color1, color='hotpink', s=10, label=\"fake field\")\n",
    "plt.gca().invert_xaxis()\n",
    "plt.legend(loc='upper right')\n",
    "plt.show()"
   ]
  },
  {
   "cell_type": "code",
   "execution_count": 12,
   "metadata": {},
   "outputs": [
    {
     "name": "stdout",
     "output_type": "stream",
     "text": [
      "xedges1= [ 14.   15.4  16.8  18.2  19.6  21. ]\n",
      "yedges1= [ 0.3   0.64  0.98  1.32  1.66  2.  ]\n",
      "<class 'numpy.ndarray'>\n"
     ]
    },
    {
     "data": {
      "image/png": "[encoded data removed]",
      "text/plain": [
       "<matplotlib.figure.Figure at 0x1a1dcb0748>"
      ]
     },
     "metadata": {},
     "output_type": "display_data"
    },
    {
     "name": "stdout",
     "output_type": "stream",
     "text": [
      "(array([0, 1, 1]), array([3, 2, 3]))\n",
      "index LRG1 (array([1, 2, 5, 6, 9]),)\n",
      "index LRG2 (array([0, 7, 8]),)\n",
      "index LRG3 (array([3, 4]),)\n",
      "<class 'tuple'>\n"
     ]
    }
   ],
   "source": [
    "# Create a 2D histogram with defined xedges and yedges\n",
    "\n",
    "# Fake field\n",
    "H1, xedges1, yedges1 = np.histogram2d(rmag1, color1, bins=[5,5], range=[[14,21],[0.3,2.0]], normed=False)\n",
    "rotH1 = np.rot90(H1, k=1)\n",
    "rotH2 = np.rot90(H1, k=2)\n",
    "rotH3 = np.rot90(H1, k=3)\n",
    "rotH4 = np.rot90(H1, k=4)\n",
    "# print(\"H1\")\n",
    "# print(H1)\n",
    "# print(\"rotated H1\") \n",
    "# print(rotH1)\n",
    "# print(\"rotated H2\") \n",
    "# print(rotH2)\n",
    "# print(\"rotated H3\") \n",
    "# print(rotH3)\n",
    "# print(\"rotated H4\") \n",
    "# print(rotH4)\n",
    "print(\"xedges1=\", xedges1)\n",
    "print(\"yedges1=\", yedges1)\n",
    "# print(\"-----\")\n",
    "\n",
    "# Fake LRG\n",
    "H, xedges, yedges = np.histogram2d(rmag, color, bins=[5,5], range=[[14,21],[0.3,2.0]], normed=False)\n",
    "rotH = np.rot90(H, k=1)\n",
    "# print(\"H = \", H)\n",
    "# print(\"rotated H = \", rotH)\n",
    "# print(\"xedges=\", xedges)\n",
    "# print(\"yedges=\", yedges)\n",
    "print(type(xedges))\n",
    "\n",
    "fig, ax = plt.subplots()\n",
    "ax.set_xticks(xedges1, minor=False)\n",
    "ax.set_yticks(yedges1, minor=True)\n",
    "ax.xaxis.grid(True, which='major')\n",
    "ax.yaxis.grid(True, which='minor')\n",
    "\n",
    "plt.scatter(rmag, color, color='green', s=10, label=\"fake LRG\")\n",
    "plt.scatter(rmag1, color1, color='hotpink', s=10, label=\"fake field\")\n",
    "# plt.gca().invert_xaxis()\n",
    "# plt.legend(loc='upper right')\n",
    "plt.show()\n",
    "\n",
    "# index = np.where((rmag >= 18.2) & (rmag <= 19.6) & (color >= 1.66) & (color <= 2.))\n",
    "index_H = np.where(rotH > 0)\n",
    "print(index_H)\n",
    "\n",
    "index_LRG1 = np.where((rmag >= 18.2) & (rmag <= 19.6) & (color >= 1.66) & (color <= 2.))\n",
    "index_LRG2 = np.where((rmag >= 16.8) & (rmag <= 18.2) & (color >= 1.32) & (color <= 1.66))\n",
    "index_LRG3 = np.where((rmag >= 18.2) & (rmag <= 19.6) & (color >= 1.32) & (color <= 1.66))\n",
    "\n",
    "# index_LRG1 = np.array(index_LRG1)\n",
    "# index_LRG2 = np.array(index_LRG2)\n",
    "# index_LRG3 = np.array(index_LRG3)\n",
    "\n",
    "# print(index_LRG)\n",
    "# print(len(index_LRG))\n",
    "print(\"index LRG1\", index_LRG1)\n",
    "print(\"index LRG2\",index_LRG2)\n",
    "print(\"index LRG3\",index_LRG3)\n",
    "print(type(index_LRG1))\n",
    "\n",
    "# index_nn = index_LRG\n",
    "# print(index_nn)\n",
    "\n",
    "# for i in range(len(index_H)):\n",
    "#     index_LRG = np.where(index_H[i])\n",
    "#     print(index_LRG)\n",
    "\n",
    "# print(rotH[0,3])"
   ]
  },
  {
   "cell_type": "code",
   "execution_count": 8,
   "metadata": {},
   "outputs": [
    {
     "name": "stdout",
     "output_type": "stream",
     "text": [
      "[(array([], dtype=int64),), (array([0]),), (array([0]),), (array([], dtype=int64),), (array([], dtype=int64),), (array([0]),), (array([0]),), (array([], dtype=int64),), (array([], dtype=int64),), (array([0]),)]\n",
      "10\n"
     ]
    }
   ],
   "source": [
    "# What I want out of this section of code: I want a list of the LRG indices that are in each CM bin.\n",
    "\n",
    "# new_array = np.zeros_like(rotH)\n",
    "# print(new_array) \n",
    "\n",
    "# print(index_H)\n",
    "# print(rotH)\n",
    "\n",
    "c, mag = index_H\n",
    "zip_list = list(zip(c, mag))\n",
    "# print(type(zip_list[0]))\n",
    "# print(zip_list)\n",
    "# print(c)\n",
    "# print(mag)\n",
    "\n",
    "index_LRG = []\n",
    "index = []\n",
    "\n",
    "# for i in range(len(xedges)-1):\n",
    "# #     print(i)\n",
    "#     for j in range(len(yedges)-1):\n",
    "# #         print(j)\n",
    "#         for k in range(len(rmag)):\n",
    "#             if ((rmag[k] >= xedges[i]) & (rmag[k] <= xedges[i+1]) & (color[k] >= yedges[j]) & (color[k] <= yedges[j+1])):\n",
    "#                 dex = np.where(rmag[k]) # >= xedges[i]) & (rmag[k] <= xedges[i+1]) & (color[k] >= yedges[j]) & (color[k] <= yedges[j+1]))\n",
    "# #                 index_LRG.append(np.where(index))\n",
    "#                 index.append(tuple(dex))\n",
    "        \n",
    "# index_LRG = np.array(index_LRG)\n",
    "# index = index_LRG[np.where(index_LRG > 0)]\n",
    "# print(index) \n",
    "# print(type(index_LRG[0]))\n",
    "\n",
    "for k in range(len(rmag)):\n",
    "    dex = np.where((rmag[k] >= 18.2) & (rmag[k] <= 19.6) & (color[k] >= 1.66) & (color[k] <= 2.))\n",
    "    index.append(tuple(dex))\n",
    "        \n",
    "print(index)\n",
    "print(len(index))"
   ]
  },
  {
   "cell_type": "code",
   "execution_count": 9,
   "metadata": {},
   "outputs": [
    {
     "name": "stdout",
     "output_type": "stream",
     "text": [
      "[1256.6370614359173, 7853.981633974483, 2827.4333882308138, 706.85834705770344, 3848.4510006474966, 1256.6370614359173, 7853.981633974483, 2827.4333882308138, 706.85834705770344, 3848.4510006474966]\n",
      "10\n",
      "[628.31853071795865, 3926.9908169872415, 1413.7166941154069, 353.42917352885172, 1924.2255003237483, 628.31853071795865, 3926.9908169872415, 1413.7166941154069, 353.42917352885172, 1924.2255003237483]\n"
     ]
    }
   ],
   "source": [
    "# calculates solid angle (in radians) subtending projected radius r\n",
    "\n",
    "omega = []\n",
    "\n",
    "# omega = np.pi * (r[1]/2.)**2.\n",
    "\n",
    "\n",
    "for i in range(len(r)):\n",
    "    ang = np.pi * (r[i]/2.)**2.\n",
    "    omega.append(ang)\n",
    "\n",
    "print(omega)\n",
    "# print(r[1]) \n",
    "\n",
    "Nbkg = []\n",
    "# sd = 0.5\n",
    "\n",
    "for i in range(len(omega)):\n",
    "    interlop = sd * omega[i]\n",
    "    Nbkg.append(interlop)\n",
    "\n",
    "print(len(Nbkg))\n",
    "print(Nbkg)"
   ]
  },
  {
   "cell_type": "code",
   "execution_count": 18,
   "metadata": {},
   "outputs": [
    {
     "name": "stdout",
     "output_type": "stream",
     "text": [
      "10\n",
      "[1 1 2 0 1 0 5 2 0 0]\n",
      "[ -627.31853072 -3925.99081699 -1411.71669412  -353.42917353 -1923.22550032\n",
      "  -628.31853072 -3921.99081699 -1411.71669412  -353.42917353 -1924.22550032]\n"
     ]
    }
   ],
   "source": [
    "numsats = nn - Nbkg\n",
    "\n",
    "print(len(numsats))\n",
    "print(nn)\n",
    "print(numsats)"
   ]
  },
  {
   "cell_type": "code",
   "execution_count": null,
   "metadata": {
    "collapsed": true
   },
   "outputs": [],
   "source": []
  },
  {
   "cell_type": "code",
   "execution_count": null,
   "metadata": {
    "collapsed": true
   },
   "outputs": [],
   "source": []
  }
 ],
 "metadata": {
  "kernelspec": {
   "display_name": "Python 3",
   "language": "python",
   "name": "python3"
  },
  "language_info": {
   "codemirror_mode": {
    "name": "ipython",
    "version": 3
   },
   "file_extension": ".py",
   "mimetype": "text/x-python",
   "name": "python",
   "nbconvert_exporter": "python",
   "pygments_lexer": "ipython3",
   "version": "3.6.3"
  }
 },
 "nbformat": 4,
 "nbformat_minor": 2
}
