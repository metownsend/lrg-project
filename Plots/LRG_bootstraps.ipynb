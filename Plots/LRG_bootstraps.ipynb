{
 "cells": [
  {
   "cell_type": "markdown",
   "metadata": {},
   "source": [
    "###### A notebook to hold the bootstrap calculations and plots of the median number of satellite galaxies with possible interpretations.\n",
    "#### Mindy Townsend\n",
    "#### Last edited: 16 July 2018"
   ]
  },
  {
   "cell_type": "code",
   "execution_count": 1,
   "metadata": {},
   "outputs": [
    {
     "name": "stdout",
     "output_type": "stream",
     "text": [
      "end data parsing\n",
      "end CosmoCalc\n",
      "end surface density calculation\n",
      "end near neighbor calculation\n",
      "end background galaxy calculation\n",
      "1151\n",
      "end satellite galaxy calculation\n",
      "end of program\n"
     ]
    }
   ],
   "source": [
    "run ~/anaconda/GitHub/lrg-project/statSub_Mark2.py"
   ]
  },
  {
   "cell_type": "code",
   "execution_count": 2,
   "metadata": {
    "collapsed": true
   },
   "outputs": [],
   "source": [
    "sumsat, sumsat1z, sumsat2z, sumsat3z, sumsat4z, sumsat5z, sumsat6z, sumsat7z, sumsat1r, sumsat2r, sumsat3r, sumsat4r, sumsat5r, sumsat6r, sumsat7r, sumsat1g, sumsat2g, sumsat3g, sumsat4g, sumsat5g, sumsat6g, sumsat7g, sumsat8g, sumsat1_zmag, sumsat2_zmag, sumsat3_zmag, sumsat4_zmag, sumsat5_zmag, sumsat6_zmag, sumsat7_zmag = sumNsat(Nsat, z_LRG, rmag_LRG, gmag_LRG, zmag_LRG)"
   ]
  },
  {
   "cell_type": "code",
   "execution_count": 3,
   "metadata": {
    "collapsed": true
   },
   "outputs": [],
   "source": [
    "sumnear, sumnear1z, sumnear2z, sumnear3z, sumnear4z, sumnear5z, sumnear6z, sumnear7z, sumnear1r, sumnear2r, sumnear3r, sumnear4r, sumnear5r, sumnear6r, sumnear7r, sumnear1g, sumnear2g, sumnear3g, sumnear4g, sumnear5g, sumnear6g, sumnear7g, sumnear8g, sumnear1_zmag, sumnear2_zmag, sumnear3_zmag, sumnear4_zmag, sumnear5_zmag, sumnear6_zmag, sumnear7_zmag = sumNN(near, z_LRG, rmag_LRG, gmag_LRG, zmag_LRG)"
   ]
  },
  {
   "cell_type": "markdown",
   "metadata": {},
   "source": [
    "### Interpretation \n",
    "\n",
    "The distribution of the bootstrapped median of all LRGs in the sample is evidently bimodal. There is a peak round 9 and a peak around 10 with a significant dip in between. The median number of satellites is the same as the median found from bootstrapping: 9.84586904539. From LRG_Project_Plots.ipynb:\n",
    "\n",
    "#### Number of LRGs in each redshift bin:  \n",
    "> (1z)   z < 0.2: 16    \n",
    "> (2z)   0.2 <= z < 0.3: 106  \n",
    "> (3z)   0.3 <= z < 0.4: 173  \n",
    "> (4z)   0.4 <= z < 0.5: 267  \n",
    "> (5z)   0.5 <= z < 0.6: 381  \n",
    "> (6z)   0.6 <= z < 0.7: 167  \n",
    "> (7z)   z < 0.7: 41  \n",
    "\n",
    "When I divide the histograms into individual redshift slices, I see that several of them have bimodal distributions. There is significant bimodality in the redshift range 0.2 to 0.3, 0.5 to 0.6, and 0.6 to 0.7, which covers 654 of the sample LRGs.\n",
    "\n",
    "Peaks for bimodal slices:\n",
    "\n",
    "> (2z)   0.2 <= z < 0.3: between 6 and 13  \n",
    "> (5z)   0.5 <= z < 0.6: between ~6.75 and ~7.9   \n",
    "> (6z)   0.6 <= z < 0.7: between ~7 and ~11  \n",
    "\n",
    "Peaks for other slices:\n",
    "> (1z)   z < 0.2: ~5  \n",
    "> (3z)   0.3 <= z < 0.4: 15  \n",
    "> (4z)   0.4 <= z < 0.5: 11  \n",
    "> (7z)   z < 0.7: 6  \n",
    "\n",
    "If I progressively add in the different redshift slices, the following peaks are found after bootstrapping:\n",
    "\n",
    "> sumsat1z + sumsat2z peaks: between 6 and 14  \n",
    "> sumsat1z + sumsat2z + sumsat3z peak: 13  \n",
    "> sumsat1z + sumsat2z + sumsat3z+ sumsat4z peak: ~13.5  \n",
    "> sumsat1z + sumsat2z + sumsat3z+ sumsat4z + sumsat5z peaks: between 9.25 and 10  \n",
    "> sumsat1z + sumsat2z + sumsat3z+ sumsat4z + sumsat5z + sumsat6z peaks: between ~9 and 10.5  \n",
    "> sumsat1z + sumsat2z + sumsat3z+ sumsat4z + sumsat5z + sumsat6z + sumsat7z peaks: between 9 and 10.5 \n",
    "\n",
    "The bimodality that appears in total sumsat bootstrap median histogram starts to appear after first five slices are included.\n",
    "\n",
    "#### Number of LRGs in each rmag bin:\n",
    "> (1r)   15 <= rmag < 16: 2\n",
    "> (2r)   16 <= rmag < 17: 4\n",
    "> (3r)   17 <= rmag < 18: 51\n",
    "> (4r)   18 <= rmag < 19: 141\n",
    "> (5r)   19 <= rmag < 20: 328\n",
    "> (6r)   20 <= rmag < 21: 584\n",
    "> (7r)   rmag >= 21: 41\n",
    "\n",
    "When I divide the histograms into individual rmag slices, I see that several of them have bimodal distributions. There is significant bimodality in the rmag range 19 to 20, and 20 to 21.\n",
    "\n",
    "Peaks for bimodal slices:\n",
    "> (5r)   19 <= rmag < 20: between 9 and 11  \n",
    "> (6r)   20 <= rmag < 21: between 8 and 9  \n",
    "> (7r)   rmag >= 21: between 5 and 10  \n",
    "\n",
    "Peaks for other slices:\n",
    "> (1r)   15 <= rmag < 16: 2  \n",
    "> (2r)   16 <= rmag < 17: 90  \n",
    "> (3r)   17 <= rmag < 18: 5  \n",
    "> (4r)   18 <= rmag < 19: 16  \n",
    "\n",
    "If I progressively add in the different gmag slices, the following peaks are found after bootstrapping:\n",
    "\n",
    "> sumsat1r + sumsat2r peaks: 10    \n",
    "> sumsat1r + sumsat2r + sumsat3r peak: 9      \n",
    "> sumsat1r + sumsat2r + sumsat3r + sumsat4r peak: between 14 and 16  \n",
    "> sumsat1r + sumsat2r + sumsat3r + sumsat4r + sumsat5r peaks: 13     \n",
    "> sumsat1r + sumsat2r + sumsat3r + sumsat4r + sumsat5r + sumsat6r peaks: between 9.25 and ~10  \n",
    "> sumsat1r + sumsat2r + sumsat3r + sumsat4r + sumsat5r + sumsat6r + sumsat7r peaks: between ~9.5 and ~10  \n",
    "\n",
    "Bimodality starts to appear only when the first 6 slices are included.\n",
    "\n",
    "#### Number of LRGs in each gmag bin:\n",
    "> (1g)   16 <= gmag < 17: 2\n",
    "> (2g)   17 <= gmag < 18: 4\n",
    "> (3g)   18 <= gmag < 19: 51\n",
    "> (4g)   19 <= gmag < 20: 141\n",
    "> (5g)   20 <= gmag < 21: 328\n",
    "> (6g)   21 <= gmag < 22: 584\n",
    "> (7g)   22 <= gmag < 23: 584\n",
    "> (8g)   gmag >= 23: 41\n",
    "\n",
    "When I divide the histograms into individual gmag slices, I see that several of them have bimodal distributions. There is significant bimodality in the gmag range \n",
    "\n",
    "Peaks for bimodal slices:\n",
    "> (6g)   21 <= gmag < 22: between 8 and 9  \n",
    "> (7g)   22 <= gmag < 23: between 8 and 9  \n",
    "\n",
    "Peaks for other slices:\n",
    "> (1g)   16 <= gmag < 17: -10\n",
    "> (2g)   17 <= gmag < 18: 8  \n",
    "> (3g)   18 <= gmag < 19: 40   \n",
    "> (4g)   19 <= gmag < 20: 13  \n",
    "> (5g)   20 <= gmag < 21: 16  \n",
    "> (8g)   gmag >= 23: 6  \n",
    "\n",
    "If I progressively add in the different gmag slices, the following peaks are found after bootstrapping:\n",
    "\n",
    "> sumsat1g + sumsat2g peaks: 2      \n",
    "> sumsat1g + sumsat2g + sumsat3g peak: -4      \n",
    "> sumsat1g + sumsat2g + sumsat3g+ sumsat4g peak: 13  \n",
    "> sumsat1g + sumsat2g + sumsat3g+ sumsat4g + sumsat5g peaks: 13     \n",
    "> sumsat1g + sumsat2g + sumsat3g+ sumsat4g + sumsat5g + sumsat6g peaks: 10.5  \n",
    "> sumsat1g + sumsat2g + sumsat3g+ sumsat4g + sumsat5g + sumsat6g + sumsat7g peaks: between ~9.25 and ~10  \n",
    "> sumsat1g + sumsat2g + sumsat3g+ sumsat4g + sumsat5g + sumsat6g + sumsat7g + sumsat8g peaks: between 9.5 and 10\n",
    "\n",
    "Bimodality doesn't get bimodal until 7 of the 8 slices are included.\n"
   ]
  },
  {
   "cell_type": "code",
   "execution_count": 81,
   "metadata": {},
   "outputs": [
    {
     "data": {
      "image/png": "[encoded data removed]",
      "text/plain": [
       "<matplotlib.figure.Figure at 0x44421dc88>"
      ]
     },
     "metadata": {},
     "output_type": "display_data"
    },
    {
     "name": "stdout",
     "output_type": "stream",
     "text": [
      "The median of Nsat: 9.84586904539\n",
      "The median of bootmed: 9.84586904539\n",
      "Low 68% confidence interval: 9.02004380608\n",
      "High 68% confidence interval: 10.4938777319\n"
     ]
    },
    {
     "data": {
      "text/plain": [
       "(9.845869045389108, 9.0200438060814427, 10.493877731909031)"
      ]
     },
     "execution_count": 81,
     "metadata": {},
     "output_type": "execute_result"
    }
   ],
   "source": [
    "boot_med_plot(1000, 0.68, np.median, sumsat1g + sumsat2g + sumsat3g + sumsat4g + sumsat5g + sumsat6g + sumsat7g + sumsat8g)"
   ]
  },
  {
   "cell_type": "markdown",
   "metadata": {},
   "source": [
    "### Bootstrap plot for every LRG"
   ]
  },
  {
   "cell_type": "code",
   "execution_count": 5,
   "metadata": {},
   "outputs": [
    {
     "data": {
      "image/png": "[encoded data removed]",
      "text/plain": [
       "<matplotlib.figure.Figure at 0x43c607320>"
      ]
     },
     "metadata": {},
     "output_type": "display_data"
    },
    {
     "name": "stdout",
     "output_type": "stream",
     "text": [
      "The median of Nsat: 9.84586904539\n",
      "The median of bootmed: 9.84586904539\n",
      "Low 68% confidence interval: 8.83585252167\n",
      "High 68% confidence interval: 10.4938777319\n"
     ]
    },
    {
     "data": {
      "text/plain": [
       "(9.845869045389108, 8.8358525216670323, 10.493877731909031)"
      ]
     },
     "execution_count": 5,
     "metadata": {},
     "output_type": "execute_result"
    }
   ],
   "source": [
    "boot_med_plot(1000, 0.68, np.median, sumsat)"
   ]
  },
  {
   "cell_type": "markdown",
   "metadata": {},
   "source": [
    "#### Bootstrap plot divided into redshift slices"
   ]
  },
  {
   "cell_type": "code",
   "execution_count": 53,
   "metadata": {},
   "outputs": [],
   "source": [
    "# boot_med_plot(1000, 0.68, np.median, sumsat1z)"
   ]
  },
  {
   "cell_type": "code",
   "execution_count": 54,
   "metadata": {},
   "outputs": [],
   "source": [
    "# boot_med_plot(1000, 0.68, np.median, sumsat2z)"
   ]
  },
  {
   "cell_type": "code",
   "execution_count": 55,
   "metadata": {},
   "outputs": [],
   "source": [
    "# boot_med_plot(1000, 0.68, np.median, sumsat3z)"
   ]
  },
  {
   "cell_type": "code",
   "execution_count": 56,
   "metadata": {},
   "outputs": [],
   "source": [
    "# boot_med_plot(1000, 0.68, np.median, sumsat4z)"
   ]
  },
  {
   "cell_type": "code",
   "execution_count": 57,
   "metadata": {},
   "outputs": [],
   "source": [
    "# boot_med_plot(1000, 0.68, np.median, sumsat5z)"
   ]
  },
  {
   "cell_type": "code",
   "execution_count": 58,
   "metadata": {},
   "outputs": [],
   "source": [
    "# boot_med_plot(1000, 0.68, np.median, sumsat6z)"
   ]
  },
  {
   "cell_type": "code",
   "execution_count": 59,
   "metadata": {},
   "outputs": [],
   "source": [
    "# boot_med_plot(1000, 0.68, np.median, sumsat7z)"
   ]
  },
  {
   "cell_type": "markdown",
   "metadata": {},
   "source": [
    "#### Bootstrap plot divided into r-mag slices"
   ]
  },
  {
   "cell_type": "code",
   "execution_count": 67,
   "metadata": {},
   "outputs": [],
   "source": [
    "# boot_med_plot(1000, 0.68, np.median, sumsat1r)"
   ]
  },
  {
   "cell_type": "code",
   "execution_count": 68,
   "metadata": {},
   "outputs": [],
   "source": [
    "# boot_med_plot(1000, 0.68, np.median, sumsat2r)"
   ]
  },
  {
   "cell_type": "code",
   "execution_count": 69,
   "metadata": {},
   "outputs": [],
   "source": [
    "# boot_med_plot(1000, 0.68, np.median, sumsat3r)"
   ]
  },
  {
   "cell_type": "code",
   "execution_count": 70,
   "metadata": {},
   "outputs": [],
   "source": [
    "# boot_med_plot(1000, 0.68, np.median, sumsat4r)"
   ]
  },
  {
   "cell_type": "code",
   "execution_count": 71,
   "metadata": {},
   "outputs": [],
   "source": [
    "# boot_med_plot(1000, 0.68, np.median, sumsat5r)"
   ]
  },
  {
   "cell_type": "code",
   "execution_count": 72,
   "metadata": {},
   "outputs": [],
   "source": [
    "# boot_med_plot(1000, 0.68, np.median, sumsat6r)"
   ]
  },
  {
   "cell_type": "code",
   "execution_count": 73,
   "metadata": {},
   "outputs": [],
   "source": [
    "# boot_med_plot(1000, 0.68, np.median, sumsat7r)"
   ]
  },
  {
   "cell_type": "markdown",
   "metadata": {},
   "source": [
    "#### Bootstrap plot divided into g-mag slices"
   ]
  },
  {
   "cell_type": "code",
   "execution_count": 82,
   "metadata": {},
   "outputs": [],
   "source": [
    "# boot_med_plot(1000, 0.68, np.median, sumsat1g)"
   ]
  },
  {
   "cell_type": "code",
   "execution_count": 83,
   "metadata": {},
   "outputs": [],
   "source": [
    "# boot_med_plot(1000, 0.68, np.median, sumsat2g)"
   ]
  },
  {
   "cell_type": "code",
   "execution_count": 84,
   "metadata": {},
   "outputs": [],
   "source": [
    "# boot_med_plot(1000, 0.68, np.median, sumsat3g)"
   ]
  },
  {
   "cell_type": "code",
   "execution_count": 85,
   "metadata": {},
   "outputs": [],
   "source": [
    "# boot_med_plot(1000, 0.68, np.median, sumsat4g)"
   ]
  },
  {
   "cell_type": "code",
   "execution_count": 86,
   "metadata": {},
   "outputs": [],
   "source": [
    "# boot_med_plot(1000, 0.68, np.median, sumsat5g)"
   ]
  },
  {
   "cell_type": "code",
   "execution_count": 87,
   "metadata": {},
   "outputs": [],
   "source": [
    "# boot_med_plot(1000, 0.68, np.median, sumsat6g)"
   ]
  },
  {
   "cell_type": "code",
   "execution_count": 88,
   "metadata": {},
   "outputs": [],
   "source": [
    "# boot_med_plot(1000, 0.68, np.median, sumsat7g)"
   ]
  },
  {
   "cell_type": "code",
   "execution_count": 89,
   "metadata": {},
   "outputs": [],
   "source": [
    "# boot_med_plot(1000, 0.68, np.median, sumsat8g)"
   ]
  },
  {
   "cell_type": "markdown",
   "metadata": {},
   "source": [
    "#### Bootstrap plot divided into z-mag slices"
   ]
  },
  {
   "cell_type": "code",
   "execution_count": 28,
   "metadata": {},
   "outputs": [
    {
     "data": {
      "image/png": "[encoded data removed]",
      "text/plain": [
       "<matplotlib.figure.Figure at 0x4420e6278>"
      ]
     },
     "metadata": {},
     "output_type": "display_data"
    },
    {
     "name": "stdout",
     "output_type": "stream",
     "text": [
      "The median of Nsat: 1.61912679504\n",
      "The median of bootmed: 1.61912679504\n",
      "Low 68% confidence interval: -10.1416536734\n",
      "High 68% confidence interval: 13.3799072635\n"
     ]
    },
    {
     "data": {
      "text/plain": [
       "(1.6191267950373893, -10.141653673381997, 13.379907263456776)"
      ]
     },
     "execution_count": 28,
     "metadata": {},
     "output_type": "execute_result"
    }
   ],
   "source": [
    "boot_med_plot(1000, 0.68, np.median, sumsat1_zmag)"
   ]
  },
  {
   "cell_type": "code",
   "execution_count": 29,
   "metadata": {},
   "outputs": [
    {
     "data": {
      "image/png": "[encoded data removed]",
      "text/plain": [
       "<matplotlib.figure.Figure at 0x442db5e10>"
      ]
     },
     "metadata": {},
     "output_type": "display_data"
    },
    {
     "name": "stdout",
     "output_type": "stream",
     "text": [
      "The median of Nsat: 8.64626566453\n",
      "The median of bootmed: 8.64626566453\n",
      "Low 68% confidence interval: -4.61002877338\n",
      "High 68% confidence interval: 172.138335386\n"
     ]
    },
    {
     "data": {
      "text/plain": [
       "(8.6462656645256786, -4.6100287733804244, 172.13833538631957)"
      ]
     },
     "execution_count": 29,
     "metadata": {},
     "output_type": "execute_result"
    }
   ],
   "source": [
    "boot_med_plot(1000, 0.68, np.median, sumsat2_zmag)"
   ]
  },
  {
   "cell_type": "code",
   "execution_count": 30,
   "metadata": {},
   "outputs": [
    {
     "data": {
      "image/png": "[encoded data removed]",
      "text/plain": [
       "<matplotlib.figure.Figure at 0x443534f28>"
      ]
     },
     "metadata": {},
     "output_type": "display_data"
    },
    {
     "name": "stdout",
     "output_type": "stream",
     "text": [
      "The median of Nsat: 4.19829705457\n",
      "The median of bootmed: 4.19829705457\n",
      "Low 68% confidence interval: -4.6200611681\n",
      "High 68% confidence interval: 10.775455058\n"
     ]
    },
    {
     "data": {
      "text/plain": [
       "(4.1982970545700731, -4.6200611681046366, 10.775455057980899)"
      ]
     },
     "execution_count": 30,
     "metadata": {},
     "output_type": "execute_result"
    }
   ],
   "source": [
    "boot_med_plot(1000, 0.68, np.median, sumsat3_zmag)"
   ]
  },
  {
   "cell_type": "code",
   "execution_count": 31,
   "metadata": {},
   "outputs": [
    {
     "data": {
      "image/png": "[encoded data removed]",
      "text/plain": [
       "<matplotlib.figure.Figure at 0x443b7ec50>"
      ]
     },
     "metadata": {},
     "output_type": "display_data"
    },
    {
     "name": "stdout",
     "output_type": "stream",
     "text": [
      "The median of Nsat: 15.5041552123\n",
      "The median of bootmed: 15.5050504929\n",
      "Low 68% confidence interval: 14.0643194184\n",
      "High 68% confidence interval: 20.1951229512\n"
     ]
    },
    {
     "data": {
      "text/plain": [
       "(15.505050492869332, 14.064319418356185, 20.195122951188566)"
      ]
     },
     "execution_count": 31,
     "metadata": {},
     "output_type": "execute_result"
    }
   ],
   "source": [
    "boot_med_plot(1000, 0.68, np.median, sumsat4_zmag)"
   ]
  },
  {
   "cell_type": "code",
   "execution_count": 32,
   "metadata": {},
   "outputs": [
    {
     "data": {
      "image/png": "[encoded data removed]",
      "text/plain": [
       "<matplotlib.figure.Figure at 0x443fe27f0>"
      ]
     },
     "metadata": {},
     "output_type": "display_data"
    },
    {
     "name": "stdout",
     "output_type": "stream",
     "text": [
      "The median of Nsat: 10.826598523\n",
      "The median of bootmed: 10.8668591895\n",
      "Low 68% confidence interval: 9.92559671323\n",
      "High 68% confidence interval: 11.901057703\n"
     ]
    },
    {
     "data": {
      "text/plain": [
       "(10.866859189549601, 9.9255967132266889, 11.901057703008417)"
      ]
     },
     "execution_count": 32,
     "metadata": {},
     "output_type": "execute_result"
    }
   ],
   "source": [
    "boot_med_plot(1000, 0.68, np.median, sumsat5_zmag)"
   ]
  },
  {
   "cell_type": "code",
   "execution_count": 33,
   "metadata": {},
   "outputs": [
    {
     "data": {
      "image/png": "[encoded data removed]",
      "text/plain": [
       "<matplotlib.figure.Figure at 0x443b29978>"
      ]
     },
     "metadata": {},
     "output_type": "display_data"
    },
    {
     "name": "stdout",
     "output_type": "stream",
     "text": [
      "The median of Nsat: 6.51628424438\n",
      "The median of bootmed: 6.45817072671\n",
      "Low 68% confidence interval: 5.5247267756\n",
      "High 68% confidence interval: 7.32349188796\n"
     ]
    },
    {
     "data": {
      "text/plain": [
       "(6.458170726714564, 5.5247267755996825, 7.3234918879599915)"
      ]
     },
     "execution_count": 33,
     "metadata": {},
     "output_type": "execute_result"
    }
   ],
   "source": [
    "boot_med_plot(1000, 0.68, np.median, sumsat6_zmag)"
   ]
  },
  {
   "cell_type": "code",
   "execution_count": 34,
   "metadata": {},
   "outputs": [
    {
     "data": {
      "image/png": "[encoded data removed]",
      "text/plain": [
       "<matplotlib.figure.Figure at 0x444417470>"
      ]
     },
     "metadata": {},
     "output_type": "display_data"
    },
    {
     "name": "stdout",
     "output_type": "stream",
     "text": [
      "The median of Nsat: 13.7423646716\n",
      "The median of bootmed: 13.7423646716\n",
      "Low 68% confidence interval: 10.5407430905\n",
      "High 68% confidence interval: 20.173789276\n"
     ]
    },
    {
     "data": {
      "text/plain": [
       "(13.742364671645843, 10.540743090516413, 20.173789276005103)"
      ]
     },
     "execution_count": 34,
     "metadata": {},
     "output_type": "execute_result"
    }
   ],
   "source": [
    "boot_med_plot(1000, 0.68, np.median, sumsat7_zmag)"
   ]
  },
  {
   "cell_type": "code",
   "execution_count": null,
   "metadata": {
    "collapsed": true
   },
   "outputs": [],
   "source": []
  }
 ],
 "metadata": {
  "kernelspec": {
   "display_name": "Python 3",
   "language": "python",
   "name": "python3"
  },
  "language_info": {
   "codemirror_mode": {
    "name": "ipython",
    "version": 3
   },
   "file_extension": ".py",
   "mimetype": "text/x-python",
   "name": "python",
   "nbconvert_exporter": "python",
   "pygments_lexer": "ipython3",
   "version": "3.5.3"
  }
 },
 "nbformat": 4,
 "nbformat_minor": 2
}
