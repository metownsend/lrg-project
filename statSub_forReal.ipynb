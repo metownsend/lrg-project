{
 "cells": [
  {
   "cell_type": "code",
   "execution_count": 3,
   "metadata": {},
   "outputs": [],
   "source": [
    "from astropy.io import fits\n",
    "from astropy.table import Table\n",
    "import numpy as np\n",
    "import matplotlib.pylab as plt \n",
    "import matplotlib.lines as mlines\n",
    "from matplotlib.legend import Legend\n",
    "from pythonds.basic.stack import Stack\n",
    "from math import *\n",
    "from sklearn.neighbors import KDTree\n",
    "from lrg_plot_functions import *\n",
    "from lrg_sum_functions import *\n",
    "from cosmo_Calc import *\n",
    "from divideByTwo import *\n",
    "from readData import *\n",
    "from nearNeighbors import *\n",
    "from localBKG import *\n",
    "from scipy import stats\n",
    "from bestBkg import *\n",
    "from astropy import stats\n",
    "import healpy as hp"
   ]
  },
  {
   "cell_type": "code",
   "execution_count": 4,
   "metadata": {},
   "outputs": [
    {
     "name": "stdout",
     "output_type": "stream",
     "text": [
      "length of sdss array:  4851200\n",
      "length of lrg only array: 1406221\n",
      "length of DECaLS targets in brick:  5182673\n",
      "length of id_ALL:  5182673\n",
      "<class 'numpy.ndarray'>\n",
      "length of id_MATCHED with LRG_cut (id_LRG): 1624\n",
      "length of idcut: 5182673\n",
      "length of idcut = 1 (is an LRG in DECaLS-only file): 1233\n",
      "length of idcut = 0 (is not an LRG in DECaLS-only file): 5181440\n",
      "length of z_lrg: 1233\n"
     ]
    },
    {
     "ename": "KeyboardInterrupt",
     "evalue": "",
     "output_type": "error",
     "traceback": [
      "\u001b[0;31m---------------------------------------------------------------------------\u001b[0m",
      "\u001b[0;31mKeyboardInterrupt\u001b[0m                         Traceback (most recent call last)",
      "\u001b[0;32m<ipython-input-4-7cdd15b1030c>\u001b[0m in \u001b[0;36m<module>\u001b[0;34m()\u001b[0m\n\u001b[1;32m     19\u001b[0m \u001b[0;34m\u001b[0m\u001b[0m\n\u001b[1;32m     20\u001b[0m \u001b[0mid_ALL1\u001b[0m\u001b[0;34m,\u001b[0m \u001b[0mra_LRG1\u001b[0m\u001b[0;34m,\u001b[0m \u001b[0mdec_LRG1\u001b[0m\u001b[0;34m,\u001b[0m \u001b[0mra_BKG1\u001b[0m\u001b[0;34m,\u001b[0m \u001b[0mdec_BKG1\u001b[0m\u001b[0;34m,\u001b[0m \u001b[0mrmag_BKG1\u001b[0m\u001b[0;34m,\u001b[0m \u001b[0mgmag_BKG1\u001b[0m\u001b[0;34m,\u001b[0m \u001b[0mzmag_BKG1\u001b[0m\u001b[0;34m,\u001b[0m \u001b[0mcolor_BKG1\u001b[0m\u001b[0;34m,\u001b[0m \u001b[0mrmag_LRG1\u001b[0m\u001b[0;34m,\u001b[0m \u001b[0mgmag_LRG1\u001b[0m\u001b[0;34m,\u001b[0m \u001b[0mzmag_LRG1\u001b[0m\u001b[0;34m,\u001b[0m \u001b[0mcolor_LRG1\u001b[0m\u001b[0;34m,\u001b[0m \u001b[0mz_LRG1\u001b[0m\u001b[0;34m,\u001b[0m \u001b[0mgdepth_LRG1\u001b[0m\u001b[0;34m,\u001b[0m \u001b[0mrdepth_LRG1\u001b[0m\u001b[0;34m,\u001b[0m \u001b[0mzdepth_LRG1\u001b[0m\u001b[0;34m,\u001b[0m \u001b[0mgdepth_BKG1\u001b[0m\u001b[0;34m,\u001b[0m \u001b[0mrdepth_BKG1\u001b[0m\u001b[0;34m,\u001b[0m \u001b[0mzdepth_BKG1\u001b[0m\u001b[0;34m,\u001b[0m \u001b[0mgobs_LRG1\u001b[0m\u001b[0;34m,\u001b[0m \u001b[0mrobs_LRG1\u001b[0m\u001b[0;34m,\u001b[0m \u001b[0mzobs_LRG1\u001b[0m\u001b[0;34m,\u001b[0m \u001b[0mgobs_BKG1\u001b[0m\u001b[0;34m,\u001b[0m \u001b[0mrobs_BKG1\u001b[0m\u001b[0;34m,\u001b[0m \u001b[0mzobs_BKG1\u001b[0m\u001b[0;34m,\u001b[0m \u001b[0mgflux_LRG1\u001b[0m\u001b[0;34m,\u001b[0m \u001b[0mrflux_LRG1\u001b[0m\u001b[0;34m,\u001b[0m \u001b[0mzflux_LRG1\u001b[0m\u001b[0;34m,\u001b[0m \u001b[0mgflux_BKG1\u001b[0m\u001b[0;34m,\u001b[0m \u001b[0mrflux_BKG1\u001b[0m\u001b[0;34m,\u001b[0m \u001b[0mzflux_BKG1\u001b[0m \u001b[0;34m=\u001b[0m \u001b[0mreadData\u001b[0m\u001b[0;34m(\u001b[0m\u001b[0mSpecObj_data\u001b[0m\u001b[0;34m,\u001b[0m \u001b[0mSDSS_data\u001b[0m\u001b[0;34m,\u001b[0m \u001b[0mDECaLS_data1\u001b[0m\u001b[0;34m)\u001b[0m\u001b[0;34m\u001b[0m\u001b[0m\n\u001b[0;32m---> 21\u001b[0;31m \u001b[0mid_ALL2\u001b[0m\u001b[0;34m,\u001b[0m \u001b[0mra_LRG2\u001b[0m\u001b[0;34m,\u001b[0m \u001b[0mdec_LRG2\u001b[0m\u001b[0;34m,\u001b[0m \u001b[0mra_BKG2\u001b[0m\u001b[0;34m,\u001b[0m \u001b[0mdec_BKG2\u001b[0m\u001b[0;34m,\u001b[0m \u001b[0mrmag_BKG2\u001b[0m\u001b[0;34m,\u001b[0m \u001b[0mgmag_BKG2\u001b[0m\u001b[0;34m,\u001b[0m \u001b[0mzmag_BKG2\u001b[0m\u001b[0;34m,\u001b[0m \u001b[0mcolor_BKG2\u001b[0m\u001b[0;34m,\u001b[0m \u001b[0mrmag_LRG2\u001b[0m\u001b[0;34m,\u001b[0m \u001b[0mgmag_LRG2\u001b[0m\u001b[0;34m,\u001b[0m \u001b[0mzmag_LRG2\u001b[0m\u001b[0;34m,\u001b[0m \u001b[0mcolor_LRG2\u001b[0m\u001b[0;34m,\u001b[0m \u001b[0mz_LRG2\u001b[0m\u001b[0;34m,\u001b[0m \u001b[0mgdepth_LRG2\u001b[0m\u001b[0;34m,\u001b[0m \u001b[0mrdepth_LRG2\u001b[0m\u001b[0;34m,\u001b[0m \u001b[0mzdepth_LRG2\u001b[0m\u001b[0;34m,\u001b[0m \u001b[0mgdepth_BKG2\u001b[0m\u001b[0;34m,\u001b[0m \u001b[0mrdepth_BKG2\u001b[0m\u001b[0;34m,\u001b[0m \u001b[0mzdepth_BKG2\u001b[0m\u001b[0;34m,\u001b[0m \u001b[0mgobs_LRG2\u001b[0m\u001b[0;34m,\u001b[0m \u001b[0mrobs_LRG2\u001b[0m\u001b[0;34m,\u001b[0m \u001b[0mzobs_LRG2\u001b[0m\u001b[0;34m,\u001b[0m \u001b[0mgobs_BKG2\u001b[0m\u001b[0;34m,\u001b[0m \u001b[0mrobs_BKG2\u001b[0m\u001b[0;34m,\u001b[0m \u001b[0mzobs_BKG2\u001b[0m\u001b[0;34m,\u001b[0m \u001b[0mgflux_LRG2\u001b[0m\u001b[0;34m,\u001b[0m \u001b[0mrflux_LRG2\u001b[0m\u001b[0;34m,\u001b[0m \u001b[0mzflux_LRG2\u001b[0m\u001b[0;34m,\u001b[0m \u001b[0mgflux_BKG2\u001b[0m\u001b[0;34m,\u001b[0m \u001b[0mrflux_BKG2\u001b[0m\u001b[0;34m,\u001b[0m \u001b[0mzflux_BKG2\u001b[0m \u001b[0;34m=\u001b[0m \u001b[0mreadData\u001b[0m\u001b[0;34m(\u001b[0m\u001b[0mSpecObj_data\u001b[0m\u001b[0;34m,\u001b[0m \u001b[0mSDSS_data\u001b[0m\u001b[0;34m,\u001b[0m \u001b[0mDECaLS_data2\u001b[0m\u001b[0;34m)\u001b[0m\u001b[0;34m\u001b[0m\u001b[0m\n\u001b[0m\u001b[1;32m     22\u001b[0m \u001b[0;34m\u001b[0m\u001b[0m\n\u001b[1;32m     23\u001b[0m \u001b[0mra_LRG\u001b[0m \u001b[0;34m=\u001b[0m \u001b[0mnp\u001b[0m\u001b[0;34m.\u001b[0m\u001b[0mconcatenate\u001b[0m\u001b[0;34m(\u001b[0m\u001b[0;34m[\u001b[0m\u001b[0mra_LRG1\u001b[0m\u001b[0;34m,\u001b[0m \u001b[0mra_LRG2\u001b[0m\u001b[0;34m]\u001b[0m\u001b[0;34m)\u001b[0m\u001b[0;34m\u001b[0m\u001b[0m\n",
      "\u001b[0;32m/Volumes/Users/mtownsend/anaconda/GitHub/lrg-project/readData.py\u001b[0m in \u001b[0;36mreadData\u001b[0;34m(SpecObj_data, SDSS_data, DECaLS_data)\u001b[0m\n\u001b[1;32m    106\u001b[0m     \u001b[0mdivideBy2Vec\u001b[0m \u001b[0;34m=\u001b[0m \u001b[0mnp\u001b[0m\u001b[0;34m.\u001b[0m\u001b[0mvectorize\u001b[0m\u001b[0;34m(\u001b[0m\u001b[0mdivideBy2\u001b[0m\u001b[0;34m)\u001b[0m\u001b[0;34m\u001b[0m\u001b[0m\n\u001b[1;32m    107\u001b[0m \u001b[0;34m\u001b[0m\u001b[0m\n\u001b[0;32m--> 108\u001b[0;31m     \u001b[0ma\u001b[0m \u001b[0;34m=\u001b[0m \u001b[0mdivideBy2Vec\u001b[0m\u001b[0;34m(\u001b[0m\u001b[0mtargets\u001b[0m\u001b[0;34m)\u001b[0m \u001b[0;31m# gives binary in string form\u001b[0m\u001b[0;34m\u001b[0m\u001b[0m\n\u001b[0m\u001b[1;32m    109\u001b[0m \u001b[0;34m\u001b[0m\u001b[0m\n\u001b[1;32m    110\u001b[0m     \u001b[0mb\u001b[0m \u001b[0;34m=\u001b[0m \u001b[0;34m[\u001b[0m\u001b[0;34m]\u001b[0m\u001b[0;34m\u001b[0m\u001b[0m\n",
      "\u001b[0;32m~/anaconda/envs/astroconda/lib/python3.5/site-packages/numpy/lib/function_base.py\u001b[0m in \u001b[0;36m__call__\u001b[0;34m(self, *args, **kwargs)\u001b[0m\n\u001b[1;32m   1970\u001b[0m             \u001b[0mvargs\u001b[0m\u001b[0;34m.\u001b[0m\u001b[0mextend\u001b[0m\u001b[0;34m(\u001b[0m\u001b[0;34m[\u001b[0m\u001b[0mkwargs\u001b[0m\u001b[0;34m[\u001b[0m\u001b[0m_n\u001b[0m\u001b[0;34m]\u001b[0m \u001b[0;32mfor\u001b[0m \u001b[0m_n\u001b[0m \u001b[0;32min\u001b[0m \u001b[0mnames\u001b[0m\u001b[0;34m]\u001b[0m\u001b[0;34m)\u001b[0m\u001b[0;34m\u001b[0m\u001b[0m\n\u001b[1;32m   1971\u001b[0m \u001b[0;34m\u001b[0m\u001b[0m\n\u001b[0;32m-> 1972\u001b[0;31m         \u001b[0;32mreturn\u001b[0m \u001b[0mself\u001b[0m\u001b[0;34m.\u001b[0m\u001b[0m_vectorize_call\u001b[0m\u001b[0;34m(\u001b[0m\u001b[0mfunc\u001b[0m\u001b[0;34m=\u001b[0m\u001b[0mfunc\u001b[0m\u001b[0;34m,\u001b[0m \u001b[0margs\u001b[0m\u001b[0;34m=\u001b[0m\u001b[0mvargs\u001b[0m\u001b[0;34m)\u001b[0m\u001b[0;34m\u001b[0m\u001b[0m\n\u001b[0m\u001b[1;32m   1973\u001b[0m \u001b[0;34m\u001b[0m\u001b[0m\n\u001b[1;32m   1974\u001b[0m     \u001b[0;32mdef\u001b[0m \u001b[0m_get_ufunc_and_otypes\u001b[0m\u001b[0;34m(\u001b[0m\u001b[0mself\u001b[0m\u001b[0;34m,\u001b[0m \u001b[0mfunc\u001b[0m\u001b[0;34m,\u001b[0m \u001b[0margs\u001b[0m\u001b[0;34m)\u001b[0m\u001b[0;34m:\u001b[0m\u001b[0;34m\u001b[0m\u001b[0m\n",
      "\u001b[0;32m~/anaconda/envs/astroconda/lib/python3.5/site-packages/numpy/lib/function_base.py\u001b[0m in \u001b[0;36m_vectorize_call\u001b[0;34m(self, func, args)\u001b[0m\n\u001b[1;32m   2046\u001b[0m                       for a in args]\n\u001b[1;32m   2047\u001b[0m \u001b[0;34m\u001b[0m\u001b[0m\n\u001b[0;32m-> 2048\u001b[0;31m             \u001b[0moutputs\u001b[0m \u001b[0;34m=\u001b[0m \u001b[0mufunc\u001b[0m\u001b[0;34m(\u001b[0m\u001b[0;34m*\u001b[0m\u001b[0minputs\u001b[0m\u001b[0;34m)\u001b[0m\u001b[0;34m\u001b[0m\u001b[0m\n\u001b[0m\u001b[1;32m   2049\u001b[0m \u001b[0;34m\u001b[0m\u001b[0m\n\u001b[1;32m   2050\u001b[0m             \u001b[0;32mif\u001b[0m \u001b[0mufunc\u001b[0m\u001b[0;34m.\u001b[0m\u001b[0mnout\u001b[0m \u001b[0;34m==\u001b[0m \u001b[0;36m1\u001b[0m\u001b[0;34m:\u001b[0m\u001b[0;34m\u001b[0m\u001b[0m\n",
      "\u001b[0;32m/Volumes/Users/mtownsend/anaconda/GitHub/lrg-project/readData.py\u001b[0m in \u001b[0;36mdivideBy2\u001b[0;34m(decNumber)\u001b[0m\n\u001b[1;32m     86\u001b[0m     \u001b[0;31m# import numpy as np\u001b[0m\u001b[0;34m\u001b[0m\u001b[0;34m\u001b[0m\u001b[0m\n\u001b[1;32m     87\u001b[0m \u001b[0;34m\u001b[0m\u001b[0m\n\u001b[0;32m---> 88\u001b[0;31m         \u001b[0mnp\u001b[0m\u001b[0;34m.\u001b[0m\u001b[0mvectorize\u001b[0m\u001b[0;34m(\u001b[0m\u001b[0mdecNumber\u001b[0m\u001b[0;34m)\u001b[0m\u001b[0;34m\u001b[0m\u001b[0m\n\u001b[0m\u001b[1;32m     89\u001b[0m         \u001b[0mremstack\u001b[0m \u001b[0;34m=\u001b[0m \u001b[0mStack\u001b[0m\u001b[0;34m(\u001b[0m\u001b[0;34m)\u001b[0m\u001b[0;34m\u001b[0m\u001b[0m\n\u001b[1;32m     90\u001b[0m \u001b[0;34m\u001b[0m\u001b[0m\n",
      "\u001b[0;32m~/anaconda/envs/astroconda/lib/python3.5/site-packages/numpy/lib/function_base.py\u001b[0m in \u001b[0;36m__init__\u001b[0;34m(self, pyfunc, otypes, doc, excluded, cache, signature)\u001b[0m\n\u001b[1;32m   1912\u001b[0m     def __init__(self, pyfunc, otypes=None, doc=None, excluded=None,\n\u001b[1;32m   1913\u001b[0m                  cache=False, signature=None):\n\u001b[0;32m-> 1914\u001b[0;31m         \u001b[0mself\u001b[0m\u001b[0;34m.\u001b[0m\u001b[0mpyfunc\u001b[0m \u001b[0;34m=\u001b[0m \u001b[0mpyfunc\u001b[0m\u001b[0;34m\u001b[0m\u001b[0m\n\u001b[0m\u001b[1;32m   1915\u001b[0m         \u001b[0mself\u001b[0m\u001b[0;34m.\u001b[0m\u001b[0mcache\u001b[0m \u001b[0;34m=\u001b[0m \u001b[0mcache\u001b[0m\u001b[0;34m\u001b[0m\u001b[0m\n\u001b[1;32m   1916\u001b[0m         \u001b[0mself\u001b[0m\u001b[0;34m.\u001b[0m\u001b[0msignature\u001b[0m \u001b[0;34m=\u001b[0m \u001b[0msignature\u001b[0m\u001b[0;34m\u001b[0m\u001b[0m\n",
      "\u001b[0;31mKeyboardInterrupt\u001b[0m: "
     ]
    }
   ],
   "source": [
    "# Reads in data files for use in readData.py\n",
    "\n",
    "hdulist = fits.open('/Users/mtownsend/anaconda/Data/survey-dr7-specObj-dr14.fits') # this matches SDSS LRGs to DECaLS;\n",
    "                                                                 # ONLY GIVES SOURCES THAT ARE IN SDSS AND DECALS\n",
    "hdulist2 = fits.open('/Users/mtownsend/anaconda/Data/specObj-dr14.fits') # this is SDSS redshifts etc for LRGs\n",
    "hdulist3 = fits.open('/Users/mtownsend/anaconda/Data/sweep-240p005-250p010-dr7.fits') # this is one sweep file of the DECaLS data\n",
    "hdulist4 = fits.open('/Users/mtownsend/anaconda/Data/sweep-240p010-250p015-dr7.fits') # this is one sweep file of the DECaLS data\n",
    "\n",
    "# hdulist = fits.open('/Users/mindy/Research/Data/lrgProjectData/survey-dr5-specObj-dr14.fits') # this matches SDSS LRGs to DECaLS;\n",
    "                                                                 # ONLY GIVES SOURCES THAT ARE IN SDSS AND DECALS\n",
    "# hdulist2 = fits.open('/Users/mindy/Research/Data/lrgProjectData/specObj-dr14.fits') # this is SDSS redshifts etc for LRGs\n",
    "# hdulist3 = fits.open('/Users/mindy/Research/Data/lrgProjectData/sweep-240p005-250p010.fits') # this is one sweep file of the DECaLS data\n",
    "\n",
    "\n",
    "SpecObj_data = hdulist[1].data\n",
    "SDSS_data = hdulist2[1].data\n",
    "DECaLS_data1 = hdulist3[1].data\n",
    "DECaLS_data2 = hdulist4[1].data\n",
    "\n",
    "id_ALL1, ra_LRG1, dec_LRG1, ra_BKG1, dec_BKG1, rmag_BKG1, gmag_BKG1, zmag_BKG1, color_BKG1, rmag_LRG1, gmag_LRG1, zmag_LRG1, color_LRG1, z_LRG1, gdepth_LRG1, rdepth_LRG1, zdepth_LRG1, gdepth_BKG1, rdepth_BKG1, zdepth_BKG1, gobs_LRG1, robs_LRG1, zobs_LRG1, gobs_BKG1, robs_BKG1, zobs_BKG1, gflux_LRG1, rflux_LRG1, zflux_LRG1, gflux_BKG1, rflux_BKG1, zflux_BKG1 = readData(SpecObj_data, SDSS_data, DECaLS_data1)\n",
    "id_ALL2, ra_LRG2, dec_LRG2, ra_BKG2, dec_BKG2, rmag_BKG2, gmag_BKG2, zmag_BKG2, color_BKG2, rmag_LRG2, gmag_LRG2, zmag_LRG2, color_LRG2, z_LRG2, gdepth_LRG2, rdepth_LRG2, zdepth_LRG2, gdepth_BKG2, rdepth_BKG2, zdepth_BKG2, gobs_LRG2, robs_LRG2, zobs_LRG2, gobs_BKG2, robs_BKG2, zobs_BKG2, gflux_LRG2, rflux_LRG2, zflux_LRG2, gflux_BKG2, rflux_BKG2, zflux_BKG2 = readData(SpecObj_data, SDSS_data, DECaLS_data2)\n",
    "\n",
    "ra_LRG = np.concatenate([ra_LRG1, ra_LRG2])\n",
    "ra_BKG = np.concatenate([ra_BKG1, ra_BKG2])\n",
    "dec_LRG = np.concatenate([dec_LRG1, dec_LRG2])\n",
    "dec_BKG = np.concatenate([dec_BKG1, dec_BKG2])\n",
    "z_LRG = np.concatenate([z_LRG1, z_LRG2])\n",
    "gmag_LRG = np.concatenate([gmag_LRG1, gmag_LRG2])\n",
    "gmag_BKG = np.concatenate([gmag_BKG1, gmag_BKG2])\n",
    "rmag_LRG = np.concatenate([rmag_LRG1, rmag_LRG2])\n",
    "rmag_BKG = np.concatenate([rmag_BKG1, rmag_BKG2])\n",
    "zmag_LRG = np.concatenate([zmag_LRG1, zmag_LRG2])\n",
    "zmag_BKG = np.concatenate([zmag_BKG1, zmag_BKG2])\n",
    "color_LRG = np.concatenate([color_LRG1, color_LRG2])\n",
    "color_BKG = np.concatenate([color_BKG1, color_BKG2])\n",
    "\n",
    "print(\"end readdata\")"
   ]
  },
  {
   "cell_type": "code",
   "execution_count": null,
   "metadata": {},
   "outputs": [],
   "source": [
    "DTT_Gyr, age_Gyr, zage_Gyr, DCMR_Mpc, DCMR_Gyr, DA_Mpc, DA_Gyr, kpc_DA, DL_Mpc, DL_Gyr, V_Gpc = cosmoCalcfunc(z_LRG)\n",
    "\n",
    "print(\"end cosmoCalc\")"
   ]
  },
  {
   "cell_type": "code",
   "execution_count": null,
   "metadata": {},
   "outputs": [],
   "source": [
    "row = 10\n",
    "column = 10\n",
    "rmag = np.concatenate([rmag_LRG, rmag_BKG])\n",
    "color = np.concatenate([color_LRG, color_BKG])\n",
    "# creates histogram for survey sources; excludes LRGs\n",
    "H, xedges, yedges = np.histogram2d(rmag, color, normed=False)\n",
    "# print(\"xedges: \", xedges)\n",
    "# print(\"yedges: \", yedges)\n",
    "\n",
    "# Uses the numbers counted in the histogram to calculate a surface density: For each cell, the number of sources\n",
    "# divided by the area \n",
    "sd = H/(25.) # * (3600.**2.)) # converts square degrees to square arcseconds\n",
    "\n",
    "distance = 0.4\n",
    "\n",
    "distance_kpc, near, gal_tree = nearNeighbor(distance, kpc_DA, ra_LRG, dec_LRG, ra_BKG, dec_BKG, rmag_LRG, rmag_BKG, color_LRG, color_BKG, xedges, yedges)\n",
    "\n",
    "print('end nearNeighbor')"
   ]
  },
  {
   "cell_type": "code",
   "execution_count": null,
   "metadata": {
    "collapsed": true
   },
   "outputs": [],
   "source": [
    "dist_r2 = 0.4\n",
    "dist_r3 = 1.0\n",
    "\n",
    "numbkg, med_local, sigma, omega, Nbkg, r2, dist_r2, r3, dist_r3 = localBKG_and_interlopers(dist_r2, dist_r3, ra_LRG, dec_LRG, ra_BKG, dec_BKG)\n",
    "\n",
    "print(\"end bkg\")"
   ]
  },
  {
   "cell_type": "code",
   "execution_count": null,
   "metadata": {
    "collapsed": true
   },
   "outputs": [],
   "source": [
    "Nsat = np.array(near) - np.array(Nbkg)\n",
    "\n",
    "print(\"end Nsat\")"
   ]
  }
 ],
 "metadata": {
  "kernelspec": {
   "display_name": "Python 3",
   "language": "python",
   "name": "python3"
  },
  "language_info": {
   "codemirror_mode": {
    "name": "ipython",
    "version": 3
   },
   "file_extension": ".py",
   "mimetype": "text/x-python",
   "name": "python",
   "nbconvert_exporter": "python",
   "pygments_lexer": "ipython3",
   "version": "3.5.3"
  }
 },
 "nbformat": 4,
 "nbformat_minor": 2
}
