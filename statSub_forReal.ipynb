{
 "cells": [
  {
   "cell_type": "code",
   "execution_count": 1,
   "metadata": {},
   "outputs": [],
   "source": [
    "from astropy.io import fits\n",
    "from astropy.table import Table\n",
    "import numpy as np\n",
    "import matplotlib.pylab as plt \n",
    "import matplotlib.lines as mlines\n",
    "from matplotlib.legend import Legend\n",
    "from pythonds.basic.stack import Stack\n",
    "from math import *\n",
    "from sklearn.neighbors import KDTree\n",
    "from lrg_plot_functions import *\n",
    "from lrg_sum_functions import *\n",
    "from cosmo_Calc import *\n",
    "from divideByTwo import *\n",
    "from readData import *\n",
    "from nearNeighbors import *\n",
    "from localBKG import *\n",
    "from scipy import stats\n",
    "from bestBkg import *\n",
    "from astropy import stats\n",
    "import healpy as hp\n",
    "from nearNeighborsHEALPix import *\n",
    "from localBKG_and_interlopersHEALPix import *\n",
    "import healpy as hpy\n",
    "import mpl_scatter_density"
   ]
  },
  {
   "cell_type": "code",
   "execution_count": 2,
   "metadata": {},
   "outputs": [
    {
     "name": "stdout",
     "output_type": "stream",
     "text": [
      "length of sdss array:  4851200\n",
      "length of lrg only array: 1406221\n",
      "length of DECaLS targets in brick:  5182673\n",
      "length of id_ALL:  5182673\n",
      "<class 'numpy.ndarray'>\n",
      "length of id_MATCHED with LRG_cut (id_LRG): 1624\n",
      "length of idcut: 5182673\n",
      "length of idcut = 1 (is an LRG in DECaLS-only file): 1233\n",
      "length of idcut = 0 (is not an LRG in DECaLS-only file): 5181440\n",
      "length of z_lrg: 1233\n",
      "length of sdss array:  4851200\n",
      "length of lrg only array: 1406221\n",
      "length of DECaLS targets in brick:  4008392\n",
      "length of id_ALL:  4008392\n",
      "<class 'numpy.ndarray'>\n",
      "length of id_MATCHED with LRG_cut (id_LRG): 1624\n",
      "length of idcut: 4008392\n",
      "length of idcut = 1 (is an LRG in DECaLS-only file): 391\n",
      "length of idcut = 0 (is not an LRG in DECaLS-only file): 4008001\n",
      "length of z_lrg: 391\n",
      "end readdata\n"
     ]
    }
   ],
   "source": [
    "# Reads in data files for use in readData.py\n",
    "\n",
    "hdulist = fits.open('/Users/mtownsend/anaconda/Data/survey-dr7-specObj-dr14.fits') # this matches SDSS LRGs to DECaLS;\n",
    "                                                                 # ONLY GIVES SOURCES THAT ARE IN SDSS AND DECALS\n",
    "hdulist2 = fits.open('/Users/mtownsend/anaconda/Data/specObj-dr14.fits') # this is SDSS redshifts etc for LRGs\n",
    "hdulist3 = fits.open('/Users/mtownsend/anaconda/Data/sweep-240p005-250p010-dr7.fits') # this is one sweep file of the DECaLS data\n",
    "hdulist4 = fits.open('/Users/mtownsend/anaconda/Data/sweep-240p010-250p015-dr7.fits') # this is one sweep file of the DECaLS data\n",
    "\n",
    "# hdulist = fits.open('/Users/mindy/Research/Data/lrgProjectData/survey-dr5-specObj-dr14.fits') # this matches SDSS LRGs to DECaLS;\n",
    "                                                                 # ONLY GIVES SOURCES THAT ARE IN SDSS AND DECALS\n",
    "# hdulist2 = fits.open('/Users/mindy/Research/Data/lrgProjectData/specObj-dr14.fits') # this is SDSS redshifts etc for LRGs\n",
    "# hdulist3 = fits.open('/Users/mindy/Research/Data/lrgProjectData/sweep-240p005-250p010.fits') # this is one sweep file of the DECaLS data\n",
    "\n",
    "\n",
    "SpecObj_data = hdulist[1].data\n",
    "SDSS_data = hdulist2[1].data\n",
    "DECaLS_data1 = hdulist3[1].data\n",
    "DECaLS_data2 = hdulist4[1].data\n",
    "\n",
    "id_ALL1, ra_LRG1, dec_LRG1, ra_BKG1, dec_BKG1, rmag_BKG1, gmag_BKG1, zmag_BKG1, color_BKG1, rmag_LRG1, gmag_LRG1, zmag_LRG1, color_LRG1, z_LRG1, gdepth_LRG1, rdepth_LRG1, zdepth_LRG1, gdepth_BKG1, rdepth_BKG1, zdepth_BKG1, gobs_LRG1, robs_LRG1, zobs_LRG1, gobs_BKG1, robs_BKG1, zobs_BKG1, gflux_LRG1, rflux_LRG1, zflux_LRG1, gflux_BKG1, rflux_BKG1, zflux_BKG1 = readData(SpecObj_data, SDSS_data, DECaLS_data1)\n",
    "\n",
    "id_ALL2, ra_LRG2, dec_LRG2, ra_BKG2, dec_BKG2, rmag_BKG2, gmag_BKG2, zmag_BKG2, color_BKG2, rmag_LRG2, gmag_LRG2, zmag_LRG2, color_LRG2, z_LRG2, gdepth_LRG2, rdepth_LRG2, zdepth_LRG2, gdepth_BKG2, rdepth_BKG2, zdepth_BKG2, gobs_LRG2, robs_LRG2, zobs_LRG2, gobs_BKG2, robs_BKG2, zobs_BKG2, gflux_LRG2, rflux_LRG2, zflux_LRG2, gflux_BKG2, rflux_BKG2, zflux_BKG2 = readData(SpecObj_data, SDSS_data, DECaLS_data2)\n",
    "\n",
    "\n",
    "# ra = np.concatenate([ra_LRG1, ra_LRG2, ra_BKG1, ra_BKG2])\n",
    "# dec = np.concatenate([dec_LRG1, dec_LRG2, dec_BKG1, dec_BKG2])\n",
    "# z_LRG = np.concatenate([z_LRG1, z_LRG2])\n",
    "# gmag = np.concatenate([gmag_LRG1, gmag_LRG2, gmag_BKG1, gmag_BKG2])\n",
    "# rmag = np.concatenate([rmag_LRG1, rmag_LRG2, rmag_BKG1, rmag_BKG2])\n",
    "# zmag = np.concatenate([zmag_LRG1, zmag_LRG2, zmag_BKG1, zmag_BKG2])\n",
    "# color = np.concatenate([color_LRG1, color_LRG2, color_BKG1, color_BKG2])\n",
    "\n",
    "# id_ALL1, ra_LRG1, dec_LRG1, ra_BKG1, dec_BKG1, rmag_BKG1, gmag_BKG1, zmag_BKG1, grcolor_BKG1, rzcolor_BKG1, gzcolor_BKG1, rmag_LRG1, gmag_LRG1, zmag_LRG1, grcolor_LRG1, rzcolor_LRG1, gzcolor_LRG1, z_LRG1, gdepth_LRG1, rdepth_LRG1, zdepth_LRG1, gdepth_BKG1, rdepth_BKG1, zdepth_BKG1, gobs_LRG1, robs_LRG1, zobs_LRG1, gobs_BKG1, robs_BKG1, zobs_BKG1, gflux_LRG1, rflux_LRG1, zflux_LRG1, gflux_BKG1, rflux_BKG1, zflux_BKG1 = readData(SpecObj_data, SDSS_data, DECaLS_data1)\n",
    "# id_ALL2, ra_LRG2, dec_LRG2, ra_BKG2, dec_BKG2, rmag_BKG2, gmag_BKG2, zmag_BKG2, grcolor_BKG2, rzcolor_BKG2, gzcolor_BKG2, rmag_LRG2, gmag_LRG2, zmag_LRG2, grcolor_LRG2, rzcolor_LRG2, gzcolor_LRG2, z_LRG2, gdepth_LRG2, rdepth_LRG2, zdepth_LRG2, gdepth_BKG2, rdepth_BKG2, zdepth_BKG2, gobs_LRG2, robs_LRG2, zobs_LRG2, gobs_BKG2, robs_BKG2, zobs_BKG2, gflux_LRG2, rflux_LRG2, zflux_LRG2, gflux_BKG2, rflux_BKG2, zflux_BKG2 = readData(SpecObj_data, SDSS_data, DECaLS_data2)\n",
    "\n",
    "# ra_LRG = np.concatenate([ra_LRG1, ra_LRG2])\n",
    "# ra_BKG = np.concatenate([ra_BKG1, ra_BKG2])\n",
    "# dec_LRG = np.concatenate([dec_LRG1, dec_LRG2])\n",
    "# dec_BKG = np.concatenate([dec_BKG1, dec_BKG2])\n",
    "# z_LRG = np.concatenate([z_LRG1, z_LRG2])\n",
    "# gmag_LRG = np.concatenate([gmag_LRG1, gmag_LRG2])\n",
    "# gmag_BKG = np.concatenate([gmag_BKG1, gmag_BKG2])\n",
    "# rmag_LRG = np.concatenate([rmag_LRG1, rmag_LRG2])\n",
    "# rmag_BKG = np.concatenate([rmag_BKG1, rmag_BKG2])\n",
    "# zmag_LRG = np.concatenate([zmag_LRG1, zmag_LRG2])\n",
    "# zmag_BKG = np.concatenate([zmag_BKG1, zmag_BKG2])\n",
    "# color_LRG = np.concatenate([color_LRG1, color_LRG2])\n",
    "# color_BKG = np.concatenate([color_BKG1, color_BKG2])\n",
    "# rzcolor_LRG = np.concatenate([rzcolor_LRG1, rzcolor_LRG2])\n",
    "# rzcolor_BKG = np.concatenate([rzcolor_BKG1, rzcolor_BKG2])\n",
    "# gzcolor_LRG = np.concatenate([gzcolor_LRG1, gzcolor_LRG2])\n",
    "# gzcolor_BKG = np.concatenate([gzcolor_BKG1, gzcolor_BKG2])\n",
    "\n",
    "print(\"end readdata\")"
   ]
  },
  {
   "cell_type": "code",
   "execution_count": 20,
   "metadata": {},
   "outputs": [
    {
     "name": "stdout",
     "output_type": "stream",
     "text": [
      "292428\n",
      "292428\n"
     ]
    }
   ],
   "source": [
    "ra_LRG = np.concatenate([ra_LRG1, ra_LRG2])\n",
    "ra_BKG = np.concatenate([ra_BKG1, ra_BKG2])\n",
    "dec_LRG = np.concatenate([dec_LRG1, dec_LRG2])\n",
    "dec_BKG = np.concatenate([dec_BKG1, dec_BKG2])\n",
    "z_LRG = np.concatenate([z_LRG1, z_LRG2])\n",
    "gmag_LRG = np.concatenate([gmag_LRG1, gmag_LRG2])\n",
    "gmag_BKG = np.concatenate([gmag_BKG1, gmag_BKG2])\n",
    "rmag_LRG = np.concatenate([rmag_LRG1, rmag_LRG2])\n",
    "rmag_BKG = np.concatenate([rmag_BKG1, rmag_BKG2])\n",
    "zmag_LRG = np.concatenate([zmag_LRG1, zmag_LRG2])\n",
    "zmag_BKG = np.concatenate([zmag_BKG1, zmag_BKG2])\n",
    "color_LRG = np.concatenate([color_LRG1, color_LRG2])\n",
    "color_BKG = np.concatenate([color_BKG1, color_BKG2])\n",
    "\n",
    "ra_LRG = ra_LRG[np.where(zmag_LRG <= 21.5)]\n",
    "dec_LRG = dec_LRG[np.where(zmag_LRG <= 21.5)]\n",
    "\n",
    "ra_BKG = ra_BKG[np.where(zmag_BKG <= 21.5)]\n",
    "dec_BKG = dec_BKG[np.where(zmag_BKG <= 21.5)]\n",
    "\n",
    "z_LRG = z_LRG[np.where(zmag_LRG <= 21.5)]\n",
    "\n",
    "gmag_LRG = gmag_LRG[np.where(zmag_LRG <= 21.5)]\n",
    "rmag_LRG = rmag_LRG[np.where(zmag_LRG <= 21.5)]\n",
    "zmag_LRG = zmag_LRG[np.where(zmag_LRG <= 21.5)]\n",
    "color_LRG = color_LRG[np.where(zmag_LRG <= 21.5)]\n",
    "# rzcolor_LRG = rzcolor_LRG[np.where(zmag_LRG <= 21.5)]\n",
    "# gzcolor_LRG = gzcolor_LRG[np.where(zmag_LRG <= 21.5)]\n",
    "\n",
    "\n",
    "gmag_BKG = gmag_BKG[np.where(zmag_BKG <= 21.5)]\n",
    "rmag_BKG = rmag_BKG[np.where(zmag_BKG <= 21.5)]\n",
    "zmag_BKG = zmag_BKG[np.where(zmag_BKG <= 21.5)]\n",
    "color_BKG = color_BKG[np.where(zmag_BKG <= 21.5)]\n",
    "# rzcolor_BKG = rzcolor_BKG[np.where(zmag_BKG <= 21.5)]\n",
    "# gzcolor_BKG = gzcolor_BKG[np.where(zmag_BKG <= 21.5)]\n",
    "\n",
    "ra = np.concatenate([ra_LRG, ra_BKG])\n",
    "dec = np.concatenate([dec_LRG, dec_BKG])\n",
    "\n",
    "gmag = np.concatenate([gmag_LRG, gmag_BKG])\n",
    "rmag = np.concatenate([rmag_LRG, rmag_BKG])\n",
    "zmag = np.concatenate([zmag_LRG, zmag_BKG])\n",
    "\n",
    "# readData returns (g-r) color\n",
    "color = np.concatenate([color_LRG, color_BKG]) \n",
    "print(len(rmag))\n",
    "print(len(color))"
   ]
  },
  {
   "cell_type": "code",
   "execution_count": 21,
   "metadata": {},
   "outputs": [
    {
     "name": "stdout",
     "output_type": "stream",
     "text": [
      "end cosmoCalc\n"
     ]
    }
   ],
   "source": [
    "DTT_Gyr, age_Gyr, zage_Gyr, DCMR_Mpc, DCMR_Gyr, DA_Mpc, DA_Gyr, kpc_DA, DL_Mpc, DL_Gyr, V_Gpc = cosmoCalcfunc(z_LRG)\n",
    "\n",
    "print(\"end cosmoCalc\")"
   ]
  },
  {
   "cell_type": "code",
   "execution_count": 22,
   "metadata": {},
   "outputs": [],
   "source": [
    "row = 10\n",
    "column = 10\n",
    "# zmag = np.concatenate([zmag_LRG, zmag_BKG])\n",
    "# color = np.concatenate([color_LRG, color_BKG])\n",
    "# creates histogram for survey sources; excludes LRGs\n",
    "H, xedges, yedges = np.histogram2d(rmag, color, normed=False)\n",
    "# print(\"xedges: \", xedges)\n",
    "# print(\"yedges: \", yedges)\n",
    "\n",
    "# Uses the numbers counted in the histogram to calculate a surface density: For each cell, the number of sources\n",
    "# divided by the area \n",
    "sd = H/(25.) # * (3600.**2.)) # converts square degrees to square arcseconds"
   ]
  },
  {
   "cell_type": "code",
   "execution_count": 23,
   "metadata": {},
   "outputs": [
    {
     "name": "stdout",
     "output_type": "stream",
     "text": [
      "length phi:  292428\n"
     ]
    }
   ],
   "source": [
    "# Make HEALPix map using just RA/Dec; end up with a density plot\n",
    "\n",
    "nside = 1024\n",
    "npixel = hpy.nside2npix(nside)\n",
    "\n",
    "# Convert ra/dec into theta/phi\n",
    "theta = []\n",
    "phi = []\n",
    "\n",
    "for i in range(len(ra)):\n",
    "    theta.append(np.radians(90. - dec[i]))\n",
    "    phi.append(np.radians(ra[i]))\n",
    "\n",
    "print('length phi: ', len(phi))\n",
    "\n",
    "# Convert angles theta and phi to pixel numbers\n",
    "\n",
    "pixnums = hpy.ang2pix(nside, theta, phi, nest=True)"
   ]
  },
  {
   "cell_type": "code",
   "execution_count": 24,
   "metadata": {},
   "outputs": [
    {
     "name": "stdout",
     "output_type": "stream",
     "text": [
      "end nearNeighbor\n"
     ]
    }
   ],
   "source": [
    "distance = 0.5 # must be in Mpc\n",
    "\n",
    "distance_kpc, near, gal_tree, dist, index, num = nearNeighbor(distance, kpc_DA, ra_LRG, dec_LRG, ra_BKG, dec_BKG, rmag, color, xedges, yedges)\n",
    "\n",
    "print('end nearNeighbor')"
   ]
  },
  {
   "cell_type": "code",
   "execution_count": 25,
   "metadata": {},
   "outputs": [],
   "source": [
    "# print(near[0])\n",
    "# print(index[0])\n",
    "# print(num[0])\n",
    "# print(num[1])\n"
   ]
  },
  {
   "cell_type": "code",
   "execution_count": 26,
   "metadata": {},
   "outputs": [
    {
     "name": "stdout",
     "output_type": "stream",
     "text": [
      "mean number of near neighbors is 27.815886699507388\n",
      "median number of near neighbors is 23.0\n",
      "standard deviation of near neighbor is 20.305061826798724\n",
      "standard error is 0.5040168506105677\n"
     ]
    },
    {
     "data": {
      "image/png": "[encoded data removed]",
      "text/plain": [
       "<Figure size 720x576 with 1 Axes>"
      ]
     },
     "metadata": {
      "needs_background": "light"
     },
     "output_type": "display_data"
    }
   ],
   "source": [
    "totalNear(near)\n",
    "\n",
    "plt.show()"
   ]
  },
  {
   "cell_type": "code",
   "execution_count": 27,
   "metadata": {},
   "outputs": [
    {
     "name": "stdout",
     "output_type": "stream",
     "text": [
      "end bkg\n"
     ]
    }
   ],
   "source": [
    "# distance_r2 = 0.4 # in degree\n",
    "# distance_r3 = 0.5 # in degree\n",
    "\n",
    "# numbkg, med_local, sigma, omega, Nbkg = localBKG_and_interlopers(distance_kpc, distance_r2, distance_r3, kpc_DA, ra_LRG, dec_LRG, ra_BKG, dec_BKG, rmag_LRG, rmag_BKG, color_LRG, color_BKG, xedges, yedges)\n",
    "\n",
    "inner_dist = 0.4 # in deg\n",
    "outer_dist = 0.5 # in deg\n",
    "\n",
    "Nbkg, indices = localBKG_and_interlopersHEALPix(nside, inner_dist, outer_dist, ra_LRG, dec_LRG, pixnums, rmag, color, xedges, yedges, distance_kpc, kpc_DA)\n",
    "\n",
    "print(\"end bkg\")"
   ]
  },
  {
   "cell_type": "code",
   "execution_count": 28,
   "metadata": {},
   "outputs": [
    {
     "name": "stdout",
     "output_type": "stream",
     "text": [
      "mean number of interlopers is 20.90997274430441\n",
      "median number of interlopers is 17.583373004354236\n",
      "standard deviation of interloper is 15.36289112860567\n",
      "standard error is 0.3813411684712727\n"
     ]
    },
    {
     "data": {
      "image/png": "[encoded data removed]",
      "text/plain": [
       "<Figure size 720x576 with 1 Axes>"
      ]
     },
     "metadata": {
      "needs_background": "light"
     },
     "output_type": "display_data"
    }
   ],
   "source": [
    "totalNbkg(Nbkg)\n",
    "\n",
    "plt.show()\n",
    "\n",
    "# result from HEALPix version\n",
    "# mean number of interlopers is 73.04254421593905\n",
    "# median number of interlopers is 58.21147204870343\n",
    "# standard deviation of interloper is 57.37234474399042\n",
    "# standard error is 1.4241093554241484"
   ]
  },
  {
   "cell_type": "code",
   "execution_count": 29,
   "metadata": {},
   "outputs": [
    {
     "name": "stdout",
     "output_type": "stream",
     "text": [
      "end Nsat\n"
     ]
    }
   ],
   "source": [
    "Nsat = np.array(near) - np.array(Nbkg)\n",
    "\n",
    "# print(Nsat)\n",
    "\n",
    "print(\"end Nsat\")"
   ]
  },
  {
   "cell_type": "code",
   "execution_count": 30,
   "metadata": {},
   "outputs": [
    {
     "name": "stdout",
     "output_type": "stream",
     "text": [
      "mean number of satellites is 6.90591395520298\n",
      "median number of satellites is 4.97348984977158\n",
      "standard deviation of satellites is 11.268806195547873\n",
      "standard error is 0.27971686357166553\n"
     ]
    },
    {
     "data": {
      "image/png": "[encoded data removed]",
      "text/plain": [
       "<Figure size 720x576 with 1 Axes>"
      ]
     },
     "metadata": {
      "needs_background": "light"
     },
     "output_type": "display_data"
    }
   ],
   "source": [
    "totalNsat(Nsat)\n",
    "\n",
    "# plt.savefig(\"/Users/mtownsend/anaconda/GitHub/lrg-project/Plots/LRG_science_plots/totalNsat.pdf\")\n",
    "# plt.savefig(\"/Users/mindy/Research/Plots/LRG_Project_Plots/totalNsat.pdf\")\n",
    "# plt.savefig('/Users/mtownsend/Desktop/totalNsat.pdf')\n",
    "\n",
    "plt.show()"
   ]
  },
  {
   "cell_type": "code",
   "execution_count": 40,
   "metadata": {},
   "outputs": [
    {
     "data": {
      "image/png": "[encoded data removed]",
      "text/plain": [
       "<Figure size 576x576 with 1 Axes>"
      ]
     },
     "metadata": {
      "needs_background": "light"
     },
     "output_type": "display_data"
    }
   ],
   "source": [
    "sumsat = []\n",
    "\n",
    "# Sum up number of background galaxies for every LRG\n",
    "for i in range(len(Nsat)):\n",
    "    sumsat.append(np.sum(Nsat[i]))\n",
    "    \n",
    "sumnear = []\n",
    "\n",
    "# Sum up number of background galaxies for every LRG\n",
    "for i in range(len(near)):\n",
    "    sumnear.append(np.sum(near[i]))\n",
    "\n",
    "plot = fig, ax = plt.subplots(figsize=(8, 8))\n",
    "# ax.set_xticks(xedges, minor=False)\n",
    "# ax.set_yticks(yedges, minor=True)\n",
    "# ax.xaxis.grid(True, which='major')\n",
    "# ax.yaxis.grid(True, which='minor')\n",
    "\n",
    "plt.scatter(sumsat, sumnear, s = 5, marker = '+', color='blue', label=\"Background\")\n",
    "# plt.scatter(zmag_LRG, rzcolor_LRG, s = 1, marker = '*', color='red', label='LRGs')\n",
    "# plt.gca().invert_xaxis()\n",
    "plt.title(\"Nsat vs Nnear\", fontsize=15)\n",
    "plt.xlabel(r'$Nsat$', fontsize=15)\n",
    "plt.ylabel(r'$Nnear$', fontsize=15)\n",
    "# ax.tick_params(labelsize=12)\n",
    "# plt.legend(loc='upper right', prop={'size': 15}, markerscale=15)\n",
    "\n",
    "plt.savefig('/Users/mtownsend/Desktop/Nsat_v_Nnear.pdf')\n",
    "\n",
    "plt.show()"
   ]
  },
  {
   "cell_type": "code",
   "execution_count": null,
   "metadata": {},
   "outputs": [],
   "source": [
    "# cmd(zmag_BKG, rzcolor_BKG, zmag_LRG, rzcolor_LRG, xedges, yedges)\n",
    "\n",
    "# import seaborn as sns\n",
    "# import pandas as pd\n",
    "from matplotlib.pyplot import *\n",
    "\n",
    "# row = 10\n",
    "# column = 10\n",
    "# nx , ny = np.meshgrid(zmag_BKG, rzcolor_BKG)\n",
    "# # creates histogram for survey sources; excludes LRGs\n",
    "# H, xnouse, ynouse, image = hist2d(zmag_BKG, rzcolor_BKG, bins=500)\n",
    "# plt.contour(H.transpose(), extent=[xedges.min(),xedges.max(),yedges.min(), yedges.max()], linewidths=3)\n",
    "# plt.contour([nx,ny],H.transpose())\n",
    "# plt.gca().invert_xaxis()\n",
    "# plt.ylim([5.5,-5.5])\n",
    "# # plt.colorbar(image)\n",
    "# plt.imshow(im, cmap='gray')\n",
    "# plt.show()\n",
    "\n",
    "fig = plt.figure()\n",
    "ax = fig.add_subplot(1,1,1,projection='scatter_density')\n",
    "# density = ax.scatter_density(zmag_BKG, rzcolor_BKG, vmin=0, vmax=50, cmap=plt.cm.Purples)\n",
    "# plt.show()\n",
    "\n",
    "# plt.rcParams['axes.facecolor'] = '0'\n",
    "# H, xnouse, ynouse, image = hist2d(zmag_BKG, rzcolor_BKG, bins=500)\n",
    "# plt.contour(H.transpose(), extent=[xedges.min(),xedges.max(),yedges.min(), yedges.max()], linewidths=1, cmap='cool')\n",
    "# plt.show()\n",
    "\n",
    "density = ax.scatter_density(zmag_BKG, rzcolor_BKG, vmin=0, vmax=20, cmap=plt.cm.Blues)\n",
    "# # plt.scatter(zmag_BKG, gzcolor_BKG, s=1, marker = '*', color='red')\n",
    "plt.scatter(zmag_LRG, gzcolor_LRG, s=1, marker = '*', color='red')\n",
    "plt.gca().invert_xaxis()\n",
    "plt.xlim(21.5, 15)\n",
    "plt.ylim([-5,7.5])\n",
    "plt.xlabel(r'$z-mag$',fontsize=15)\n",
    "plt.ylabel(r'$(r-z)$ $color$', fontsize=15)\n",
    "# plt.legend(loc='upper right', prop={'size': 13}, markerscale=13)\n",
    "fig.colorbar(density, label='Number Density') #, extend='max')\n",
    "ax.tick_params(labelsize=12)\n",
    "plt.savefig('/Users/mtownsend/Desktop/CMD-density.png')\n",
    "plt.show()\n",
    "\n",
    "\n",
    "# N = 10000000\n",
    "# x = np.random.normal(4,2,N)\n",
    "# y = np.random.normal(3,1,N)\n",
    "\n",
    "# fig = plt.figure()\n",
    "# ax = fig.add_subplot(1,1,1,projection='scatter_density')\n",
    "# ax.scatter_density(x,y)\n",
    "# ax.set_xlim(-5,10)\n",
    "# ax.set_ylim(-5,10)\n",
    "# plt.show()\n",
    "\n",
    "\n",
    "# plt.hexbin(zmag_BKG, rzcolor_BKG, gridsize=100, cmap=plt.cm.Purples)\n",
    "# plt.scatter(zmag_LRG, gzcolor_LRG, s=1, marker = '*', color='red')\n",
    "# plt.gca().invert_xaxis()\n",
    "# plt.colorbar()\n",
    "# plt.show()\n",
    "\n"
   ]
  },
  {
   "cell_type": "code",
   "execution_count": null,
   "metadata": {},
   "outputs": [],
   "source": [
    "# cmd(zmag_BKG, gzcolor_BKG, zmag_LRG, gzcolor_LRG, xedges, yedges)\n",
    "\n",
    "plot = fig, ax = plt.subplots(figsize=(8, 8))\n",
    "ax.set_xticks(xedges, minor=False)\n",
    "ax.set_yticks(yedges, minor=True)\n",
    "# ax.xaxis.grid(True, which='major')\n",
    "# ax.yaxis.grid(True, which='minor')\n",
    "\n",
    "plt.scatter(zmag_BKG, rzcolor_BKG, s = 1, marker = '+', color='blue', label=\"Background\")\n",
    "plt.scatter(zmag_LRG, rzcolor_LRG, s = 1, marker = '*', color='red', label='LRGs')\n",
    "plt.gca().invert_xaxis()\n",
    "plt.title(\"Color-Magnitude Diagram\", fontsize=15)\n",
    "plt.xlabel(r'$z-mag$', fontsize=15)\n",
    "plt.ylabel(r'$(r-z)$ $color$', fontsize=15)\n",
    "ax.tick_params(labelsize=12)\n",
    "plt.legend(loc='upper right', prop={'size': 15}, markerscale=15)\n",
    "\n",
    "plt.savefig('/Users/mtownsend/Desktop/rz_CMD.png')\n",
    "\n",
    "plt.show()"
   ]
  },
  {
   "cell_type": "code",
   "execution_count": null,
   "metadata": {},
   "outputs": [],
   "source": [
    "distance_r2 = 0.4\n",
    "distance_r3 = [0.5, 0.6, 0.7, 0.8, 0.9, 1.0, 1.1, 1.2, 1.3, 1.4, 1.5]\n",
    "\n",
    "sum_sat = []\n",
    "median_sat = []\n",
    "Nsat = []\n",
    "for i in range(len(distance_r3)):\n",
    "    numbkg, med_local, sigma, omega, Nbkg, r2, dist_r2, r3, dist_r3 = localBKG_and_interlopers(distance_kpc, distance_r2, distance_r3[i], kpc_DA, ra_LRG, dec_LRG, ra_BKG, dec_BKG, rmag_LRG, rmag_BKG, color_LRG, color_BKG, xedges, yedges)\n",
    "    Nsat = np.array(near) - np.array(Nbkg)\n",
    "    mediansat = totalNsat(Nsat)\n",
    "#     sum_sat.append(np.sum(N_sat))\n",
    "    median_sat.append(mediansat)\n"
   ]
  },
  {
   "cell_type": "code",
   "execution_count": null,
   "metadata": {},
   "outputs": [],
   "source": [
    "print(median_sat)\n",
    "\n",
    "plt.plot(distance_r3, median_sat)\n",
    "plt.show()"
   ]
  },
  {
   "cell_type": "code",
   "execution_count": null,
   "metadata": {},
   "outputs": [],
   "source": [
    "# z < 0.2\n",
    "Nsat1z = Nsat[np.where((z_LRG < 0.2) & (0.4 > z_LRG))]\n",
    "# print(len(Nsat1z))\n",
    "\n",
    "sumsat1z = []\n",
    "for i in range(len(Nsat1z)):\n",
    "    sumsat1z.append(np.sum(Nsat1z[i]))\n",
    "    \n",
    "# 0.2 <= z < 0.3\n",
    "Nsat2z = Nsat[np.where((z_LRG >= 0.4) & (0.6 > z_LRG))]\n",
    "# print(len(Nsat2z))\n",
    "\n",
    "sumsat2z = []\n",
    "for i in range(len(Nsat2z)):\n",
    "    sumsat2z.append(np.sum(Nsat2z[i]))\n",
    "\n",
    "# 0.3 <= z < 0.4\n",
    "Nsat3z = Nsat[np.where(z_LRG >= 0.6)]\n",
    "# print(len(Nsat3z))\n",
    "\n",
    "sumsat3z = []\n",
    "for i in range(len(Nsat3z)):\n",
    "    sumsat3z.append(np.sum(Nsat3z[i]))\n",
    "    \n",
    "\n",
    "    \n",
    "# Calculate mean for every redshift slice\n",
    "mean_sumsat1z = np.median(sumsat1z)\n",
    "print(\"mean number of satellites at 0.2 <= z < 0.4:\", mean_sumsat1z)\n",
    "mean_sumsat2z = np.median(sumsat2z)\n",
    "print(\"mean number of satellites at 0.4 <= z < 0.6:\", mean_sumsat2z)\n",
    "mean_sumsat3z = np.median(sumsat3z)\n",
    "print(\"mean number of satellites at 0.6 >= z :\", mean_sumsat3z)\n",
    "\n",
    "# plt.title(\"Histogram of the Number of Satellite Galaxies at Different LRG Redshift Slices\")\n",
    "plt.hist(sumsat1z, bins=25, alpha=0.5, label='0.2 <= z < 0.4')\n",
    "plt.xlabel(r'$satellites$', fontsize=15)\n",
    "plt.ylabel(r'$counts$', fontsize=15)\n",
    "plt.legend(loc='upper right', prop={'size': 15}, markerscale=15)\n",
    "ax.tick_params(labelsize=14)\n",
    "plt.savefig('/Users/mtownsend/Desktop/z1hist.png')\n",
    "plt.show()\n",
    "plt.hist(sumsat2z, bins=25, alpha=0.5, label='0.4 <= z < 0.6')\n",
    "plt.xlabel(r'$satellites$', fontsize=15)\n",
    "plt.ylabel(r'$counts$', fontsize=15)\n",
    "plt.legend(loc='upper right', prop={'size': 15}, markerscale=15)\n",
    "ax.tick_params(labelsize=14)\n",
    "plt.savefig('/Users/mtownsend/Desktop/z2hist.png')\n",
    "plt.show()\n",
    "plt.hist(sumsat3z, bins=25, alpha=0.5, label='0.6 >= z')\n",
    "plt.xlabel(r'$satellites$', fontsize=15)\n",
    "plt.ylabel(r'$counts$', fontsize=15)\n",
    "plt.legend(loc='upper right', prop={'size': 15}, markerscale=15)\n",
    "ax.tick_params(labelsize=14)\n",
    "plt.savefig('/Users/mtownsend/Desktop/z3hist.png')\n",
    "plt.show()\n"
   ]
  },
  {
   "cell_type": "code",
   "execution_count": null,
   "metadata": {},
   "outputs": [],
   "source": [
    "sumsat = []\n",
    "\t\n",
    "# Sum up number of satellite galaxies for every LRG\n",
    "for i in range(len(Nsat)):\n",
    "    sumsat.append(np.sum(Nsat[i]))\n",
    "\n",
    "plt.rcParams[\"figure.figsize\"] = [8, 8]\n",
    "plt.title(\"Histogram of the Number of Satellite Galaxies\", fontsize=15)\n",
    "plt.hist(sumsat, bins=100)\n",
    "plt.axvline(linewidth=1, color='r')\n",
    "ax.tick_params(labelsize=14)\n",
    "plt.xlabel(r'$Number$ $of$ $Satellite$ $Galaxies$', fontsize=15)\n",
    "plt.ylabel(r'$counts$', fontsize=15)\n",
    "plt.savefig('/Users/mtownsend/Desktop/totalNsat.png')\n",
    "\n",
    "plt.show()\n",
    "\n"
   ]
  },
  {
   "cell_type": "code",
   "execution_count": null,
   "metadata": {},
   "outputs": [],
   "source": []
  }
 ],
 "metadata": {
  "kernelspec": {
   "display_name": "Python 3",
   "language": "python",
   "name": "python3"
  },
  "language_info": {
   "codemirror_mode": {
    "name": "ipython",
    "version": 3
   },
   "file_extension": ".py",
   "mimetype": "text/x-python",
   "name": "python",
   "nbconvert_exporter": "python",
   "pygments_lexer": "ipython3",
   "version": "3.5.5"
  }
 },
 "nbformat": 4,
 "nbformat_minor": 2
}
